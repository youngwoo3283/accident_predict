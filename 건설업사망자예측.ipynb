{
  "nbformat": 4,
  "nbformat_minor": 0,
  "metadata": {
    "colab": {
      "provenance": []
    },
    "kernelspec": {
      "name": "python3",
      "display_name": "Python 3"
    },
    "language_info": {
      "name": "python"
    }
  },
  "cells": [
    {
      "cell_type": "code",
      "source": [
        "from google.colab import drive\n",
        "drive.mount('/content/drive')"
      ],
      "metadata": {
        "colab": {
          "base_uri": "https://localhost:8080/"
        },
        "id": "U8OOaQevmlw5",
        "outputId": "70e637ae-f4ce-456d-d1f7-aee248879566"
      },
      "execution_count": null,
      "outputs": [
        {
          "output_type": "stream",
          "name": "stdout",
          "text": [
            "Mounted at /content/drive\n"
          ]
        }
      ]
    },
    {
      "cell_type": "code",
      "source": [
        "import numpy as np\n",
        "import pandas as pd\n"
      ],
      "metadata": {
        "id": "BvEUnG5nmyOt"
      },
      "execution_count": null,
      "outputs": []
    },
    {
      "cell_type": "code",
      "source": [
        "df = pd.read_csv('/content/drive/MyDrive/국토안전관리원_건설안전사고 발생현황_재해자특성_20230412.csv',encoding = 'cp949')"
      ],
      "metadata": {
        "id": "xx4g4wspm2zA"
      },
      "execution_count": null,
      "outputs": []
    },
    {
      "cell_type": "code",
      "source": [
        "df.head()"
      ],
      "metadata": {
        "colab": {
          "base_uri": "https://localhost:8080/",
          "height": 487
        },
        "id": "w78mI5a7nBtv",
        "outputId": "99f9fb88-7896-45c3-c818-53be73c1b5b1"
      },
      "execution_count": null,
      "outputs": [
        {
          "output_type": "execute_result",
          "data": {
            "text/plain": [
              "            사고신고사유                 사고일시     공정율  날씨     지역             공사종류  \\\n",
              "0  3일이상 휴업이 필요한 부상  2019-07-01 07:10:00  20~29%  맑음    경기도      건축/건축물/업무시설   \n",
              "1               기타  2019-07-01 08:50:00  80~89%  강우    경기도      건축/건축물/공동주택   \n",
              "2  3일이상 휴업이 필요한 부상  2019-07-01 09:30:00  60~69%  맑음    경기도  토목/옹벽 및 절토사면/옹벽   \n",
              "3  3일이상 휴업이 필요한 부상  2019-07-01 10:00:00  90% 이상  맑음  인천광역시       토목/터널/철도터널   \n",
              "4  3일이상 휴업이 필요한 부상  2019-07-01 10:10:00  50~59%  맑음    경기도      건축/건축물/공동주택   \n",
              "\n",
              "                 공사비   공종소분류  사망자  내국인사망자  ...  내국인부상자  외국인부상자  남성부상자  여성부상자  \\\n",
              "0      10억 ~ 20억원 미만      기타    0       0  ...       1       0      1      0   \n",
              "1    150억 ~ 200억원 미만    가설공사    0       0  ...       0       1      1      0   \n",
              "2         1,000억원 이상    가설공사    0       0  ...       1       0      1      0   \n",
              "3  500억 ~ 1,000억원 미만    가설공사    0       0  ...       1       0      1      0   \n",
              "4  500억 ~ 1,000억원 미만  전기설비공사    0       0  ...       1       0      1      0   \n",
              "\n",
              "   10이상20미만 부상자  20이상30미만 부상자  30이상40미만 부상자  40이상50미만 부상자  50이상60미만 부상자  \\\n",
              "0             0             0             0             0             1   \n",
              "1             0             0             1             0             0   \n",
              "2             0             0             0             0             1   \n",
              "3             0             0             0             0             0   \n",
              "4             0             0             0             0             1   \n",
              "\n",
              "   60이상부상자  \n",
              "0        0  \n",
              "1        0  \n",
              "2        0  \n",
              "3        1  \n",
              "4        0  \n",
              "\n",
              "[5 rows x 30 columns]"
            ],
            "text/html": [
              "\n",
              "  <div id=\"df-5567ebf5-000d-453f-a811-a201a744129a\">\n",
              "    <div class=\"colab-df-container\">\n",
              "      <div>\n",
              "<style scoped>\n",
              "    .dataframe tbody tr th:only-of-type {\n",
              "        vertical-align: middle;\n",
              "    }\n",
              "\n",
              "    .dataframe tbody tr th {\n",
              "        vertical-align: top;\n",
              "    }\n",
              "\n",
              "    .dataframe thead th {\n",
              "        text-align: right;\n",
              "    }\n",
              "</style>\n",
              "<table border=\"1\" class=\"dataframe\">\n",
              "  <thead>\n",
              "    <tr style=\"text-align: right;\">\n",
              "      <th></th>\n",
              "      <th>사고신고사유</th>\n",
              "      <th>사고일시</th>\n",
              "      <th>공정율</th>\n",
              "      <th>날씨</th>\n",
              "      <th>지역</th>\n",
              "      <th>공사종류</th>\n",
              "      <th>공사비</th>\n",
              "      <th>공종소분류</th>\n",
              "      <th>사망자</th>\n",
              "      <th>내국인사망자</th>\n",
              "      <th>...</th>\n",
              "      <th>내국인부상자</th>\n",
              "      <th>외국인부상자</th>\n",
              "      <th>남성부상자</th>\n",
              "      <th>여성부상자</th>\n",
              "      <th>10이상20미만 부상자</th>\n",
              "      <th>20이상30미만 부상자</th>\n",
              "      <th>30이상40미만 부상자</th>\n",
              "      <th>40이상50미만 부상자</th>\n",
              "      <th>50이상60미만 부상자</th>\n",
              "      <th>60이상부상자</th>\n",
              "    </tr>\n",
              "  </thead>\n",
              "  <tbody>\n",
              "    <tr>\n",
              "      <th>0</th>\n",
              "      <td>3일이상 휴업이 필요한 부상</td>\n",
              "      <td>2019-07-01 07:10:00</td>\n",
              "      <td>20~29%</td>\n",
              "      <td>맑음</td>\n",
              "      <td>경기도</td>\n",
              "      <td>건축/건축물/업무시설</td>\n",
              "      <td>10억 ~ 20억원 미만</td>\n",
              "      <td>기타</td>\n",
              "      <td>0</td>\n",
              "      <td>0</td>\n",
              "      <td>...</td>\n",
              "      <td>1</td>\n",
              "      <td>0</td>\n",
              "      <td>1</td>\n",
              "      <td>0</td>\n",
              "      <td>0</td>\n",
              "      <td>0</td>\n",
              "      <td>0</td>\n",
              "      <td>0</td>\n",
              "      <td>1</td>\n",
              "      <td>0</td>\n",
              "    </tr>\n",
              "    <tr>\n",
              "      <th>1</th>\n",
              "      <td>기타</td>\n",
              "      <td>2019-07-01 08:50:00</td>\n",
              "      <td>80~89%</td>\n",
              "      <td>강우</td>\n",
              "      <td>경기도</td>\n",
              "      <td>건축/건축물/공동주택</td>\n",
              "      <td>150억 ~ 200억원 미만</td>\n",
              "      <td>가설공사</td>\n",
              "      <td>0</td>\n",
              "      <td>0</td>\n",
              "      <td>...</td>\n",
              "      <td>0</td>\n",
              "      <td>1</td>\n",
              "      <td>1</td>\n",
              "      <td>0</td>\n",
              "      <td>0</td>\n",
              "      <td>0</td>\n",
              "      <td>1</td>\n",
              "      <td>0</td>\n",
              "      <td>0</td>\n",
              "      <td>0</td>\n",
              "    </tr>\n",
              "    <tr>\n",
              "      <th>2</th>\n",
              "      <td>3일이상 휴업이 필요한 부상</td>\n",
              "      <td>2019-07-01 09:30:00</td>\n",
              "      <td>60~69%</td>\n",
              "      <td>맑음</td>\n",
              "      <td>경기도</td>\n",
              "      <td>토목/옹벽 및 절토사면/옹벽</td>\n",
              "      <td>1,000억원 이상</td>\n",
              "      <td>가설공사</td>\n",
              "      <td>0</td>\n",
              "      <td>0</td>\n",
              "      <td>...</td>\n",
              "      <td>1</td>\n",
              "      <td>0</td>\n",
              "      <td>1</td>\n",
              "      <td>0</td>\n",
              "      <td>0</td>\n",
              "      <td>0</td>\n",
              "      <td>0</td>\n",
              "      <td>0</td>\n",
              "      <td>1</td>\n",
              "      <td>0</td>\n",
              "    </tr>\n",
              "    <tr>\n",
              "      <th>3</th>\n",
              "      <td>3일이상 휴업이 필요한 부상</td>\n",
              "      <td>2019-07-01 10:00:00</td>\n",
              "      <td>90% 이상</td>\n",
              "      <td>맑음</td>\n",
              "      <td>인천광역시</td>\n",
              "      <td>토목/터널/철도터널</td>\n",
              "      <td>500억 ~ 1,000억원 미만</td>\n",
              "      <td>가설공사</td>\n",
              "      <td>0</td>\n",
              "      <td>0</td>\n",
              "      <td>...</td>\n",
              "      <td>1</td>\n",
              "      <td>0</td>\n",
              "      <td>1</td>\n",
              "      <td>0</td>\n",
              "      <td>0</td>\n",
              "      <td>0</td>\n",
              "      <td>0</td>\n",
              "      <td>0</td>\n",
              "      <td>0</td>\n",
              "      <td>1</td>\n",
              "    </tr>\n",
              "    <tr>\n",
              "      <th>4</th>\n",
              "      <td>3일이상 휴업이 필요한 부상</td>\n",
              "      <td>2019-07-01 10:10:00</td>\n",
              "      <td>50~59%</td>\n",
              "      <td>맑음</td>\n",
              "      <td>경기도</td>\n",
              "      <td>건축/건축물/공동주택</td>\n",
              "      <td>500억 ~ 1,000억원 미만</td>\n",
              "      <td>전기설비공사</td>\n",
              "      <td>0</td>\n",
              "      <td>0</td>\n",
              "      <td>...</td>\n",
              "      <td>1</td>\n",
              "      <td>0</td>\n",
              "      <td>1</td>\n",
              "      <td>0</td>\n",
              "      <td>0</td>\n",
              "      <td>0</td>\n",
              "      <td>0</td>\n",
              "      <td>0</td>\n",
              "      <td>1</td>\n",
              "      <td>0</td>\n",
              "    </tr>\n",
              "  </tbody>\n",
              "</table>\n",
              "<p>5 rows × 30 columns</p>\n",
              "</div>\n",
              "      <button class=\"colab-df-convert\" onclick=\"convertToInteractive('df-5567ebf5-000d-453f-a811-a201a744129a')\"\n",
              "              title=\"Convert this dataframe to an interactive table.\"\n",
              "              style=\"display:none;\">\n",
              "        \n",
              "  <svg xmlns=\"http://www.w3.org/2000/svg\" height=\"24px\"viewBox=\"0 0 24 24\"\n",
              "       width=\"24px\">\n",
              "    <path d=\"M0 0h24v24H0V0z\" fill=\"none\"/>\n",
              "    <path d=\"M18.56 5.44l.94 2.06.94-2.06 2.06-.94-2.06-.94-.94-2.06-.94 2.06-2.06.94zm-11 1L8.5 8.5l.94-2.06 2.06-.94-2.06-.94L8.5 2.5l-.94 2.06-2.06.94zm10 10l.94 2.06.94-2.06 2.06-.94-2.06-.94-.94-2.06-.94 2.06-2.06.94z\"/><path d=\"M17.41 7.96l-1.37-1.37c-.4-.4-.92-.59-1.43-.59-.52 0-1.04.2-1.43.59L10.3 9.45l-7.72 7.72c-.78.78-.78 2.05 0 2.83L4 21.41c.39.39.9.59 1.41.59.51 0 1.02-.2 1.41-.59l7.78-7.78 2.81-2.81c.8-.78.8-2.07 0-2.86zM5.41 20L4 18.59l7.72-7.72 1.47 1.35L5.41 20z\"/>\n",
              "  </svg>\n",
              "      </button>\n",
              "      \n",
              "  <style>\n",
              "    .colab-df-container {\n",
              "      display:flex;\n",
              "      flex-wrap:wrap;\n",
              "      gap: 12px;\n",
              "    }\n",
              "\n",
              "    .colab-df-convert {\n",
              "      background-color: #E8F0FE;\n",
              "      border: none;\n",
              "      border-radius: 50%;\n",
              "      cursor: pointer;\n",
              "      display: none;\n",
              "      fill: #1967D2;\n",
              "      height: 32px;\n",
              "      padding: 0 0 0 0;\n",
              "      width: 32px;\n",
              "    }\n",
              "\n",
              "    .colab-df-convert:hover {\n",
              "      background-color: #E2EBFA;\n",
              "      box-shadow: 0px 1px 2px rgba(60, 64, 67, 0.3), 0px 1px 3px 1px rgba(60, 64, 67, 0.15);\n",
              "      fill: #174EA6;\n",
              "    }\n",
              "\n",
              "    [theme=dark] .colab-df-convert {\n",
              "      background-color: #3B4455;\n",
              "      fill: #D2E3FC;\n",
              "    }\n",
              "\n",
              "    [theme=dark] .colab-df-convert:hover {\n",
              "      background-color: #434B5C;\n",
              "      box-shadow: 0px 1px 3px 1px rgba(0, 0, 0, 0.15);\n",
              "      filter: drop-shadow(0px 1px 2px rgba(0, 0, 0, 0.3));\n",
              "      fill: #FFFFFF;\n",
              "    }\n",
              "  </style>\n",
              "\n",
              "      <script>\n",
              "        const buttonEl =\n",
              "          document.querySelector('#df-5567ebf5-000d-453f-a811-a201a744129a button.colab-df-convert');\n",
              "        buttonEl.style.display =\n",
              "          google.colab.kernel.accessAllowed ? 'block' : 'none';\n",
              "\n",
              "        async function convertToInteractive(key) {\n",
              "          const element = document.querySelector('#df-5567ebf5-000d-453f-a811-a201a744129a');\n",
              "          const dataTable =\n",
              "            await google.colab.kernel.invokeFunction('convertToInteractive',\n",
              "                                                     [key], {});\n",
              "          if (!dataTable) return;\n",
              "\n",
              "          const docLinkHtml = 'Like what you see? Visit the ' +\n",
              "            '<a target=\"_blank\" href=https://colab.research.google.com/notebooks/data_table.ipynb>data table notebook</a>'\n",
              "            + ' to learn more about interactive tables.';\n",
              "          element.innerHTML = '';\n",
              "          dataTable['output_type'] = 'display_data';\n",
              "          await google.colab.output.renderOutput(dataTable, element);\n",
              "          const docLink = document.createElement('div');\n",
              "          docLink.innerHTML = docLinkHtml;\n",
              "          element.appendChild(docLink);\n",
              "        }\n",
              "      </script>\n",
              "    </div>\n",
              "  </div>\n",
              "  "
            ]
          },
          "metadata": {},
          "execution_count": 4
        }
      ]
    },
    {
      "cell_type": "code",
      "source": [
        "df['사고신고사유'].nunique()"
      ],
      "metadata": {
        "colab": {
          "base_uri": "https://localhost:8080/"
        },
        "id": "NskTsYQ4nNIK",
        "outputId": "2f54511a-8610-4c33-bbb3-fbfd26ca0ab3"
      },
      "execution_count": null,
      "outputs": [
        {
          "output_type": "execute_result",
          "data": {
            "text/plain": [
              "13"
            ]
          },
          "metadata": {},
          "execution_count": 7
        }
      ]
    },
    {
      "cell_type": "code",
      "source": [
        "df.shape[0]"
      ],
      "metadata": {
        "colab": {
          "base_uri": "https://localhost:8080/"
        },
        "id": "ZwuzFL25nUcK",
        "outputId": "815efd3b-12ea-4b28-8545-73858502fb30"
      },
      "execution_count": null,
      "outputs": [
        {
          "output_type": "execute_result",
          "data": {
            "text/plain": [
              "17682"
            ]
          },
          "metadata": {},
          "execution_count": 8
        }
      ]
    },
    {
      "cell_type": "code",
      "source": [
        "df.columns"
      ],
      "metadata": {
        "colab": {
          "base_uri": "https://localhost:8080/"
        },
        "id": "m3XSEqqYoUrf",
        "outputId": "a2ebb2ed-0d9b-49a0-f2f5-a52cef2a1152"
      },
      "execution_count": null,
      "outputs": [
        {
          "output_type": "execute_result",
          "data": {
            "text/plain": [
              "Index(['사고신고사유', '사고일시', '공정율', '날씨', '지역', '공사종류', '공사비', '공종소분류', '사망자',\n",
              "       '내국인사망자', '외국인사망자', '남성사망자', '여성사망자', '10이상20미만 사망자', '20이상30미만 사망자',\n",
              "       '30이상40미만 사망자', '40이상50미만 사망자', '50이상60미만 사망자', '60이상사망자', '부상자',\n",
              "       '내국인부상자', '외국인부상자', '남성부상자', '여성부상자', '10이상20미만 부상자', '20이상30미만 부상자',\n",
              "       '30이상40미만 부상자', '40이상50미만 부상자', '50이상60미만 부상자', '60이상부상자'],\n",
              "      dtype='object')"
            ]
          },
          "metadata": {},
          "execution_count": 9
        }
      ]
    },
    {
      "cell_type": "code",
      "source": [
        "df['사고신고사유'].value_counts()"
      ],
      "metadata": {
        "colab": {
          "base_uri": "https://localhost:8080/"
        },
        "id": "8-4DstyYpvES",
        "outputId": "a87caf79-fd51-4f0e-8536-3156baa0f0b0"
      },
      "execution_count": null,
      "outputs": [
        {
          "output_type": "execute_result",
          "data": {
            "text/plain": [
              "3일이상 휴업이 필요한 부상                                   15572\n",
              "사망 1명 이상                                            775\n",
              "3일이상 휴업이 필요한 부상, 기타                                 731\n",
              "기타                                                  353\n",
              "1000만원 이상의 재산피해                                      87\n",
              "1000만원 이상의 재산피해, 3일이상 휴업이 필요한 부상                     56\n",
              "사망 1명 이상, 3일이상 휴업이 필요한 부상                            39\n",
              "사망 1명 이상, 1000만원 이상의 재산피해                            23\n",
              "1000만원 이상의 재산피해, 기타                                  16\n",
              "사망 1명 이상, 1000만원 이상의 재산피해, 3일이상 휴업이 필요한 부상           14\n",
              "사망 1명 이상, 기타                                         11\n",
              "1000만원 이상의 재산피해, 3일이상 휴업이 필요한 부상, 기타                  4\n",
              "사망 1명 이상, 1000만원 이상의 재산피해, 3일이상 휴업이 필요한 부상, 기타        1\n",
              "Name: 사고신고사유, dtype: int64"
            ]
          },
          "metadata": {},
          "execution_count": 11
        }
      ]
    },
    {
      "cell_type": "markdown",
      "source": [
        "전체 3일 이상 휴업이 필요한 부상 15000건 정도\n",
        "사망자 사고는 800건\n",
        "즉 사망자를 이상치로 해서 분류하기"
      ],
      "metadata": {
        "id": "B5pH1bBPqUyd"
      }
    },
    {
      "cell_type": "markdown",
      "source": [],
      "metadata": {
        "id": "dJKVZSpPqf8-"
      }
    },
    {
      "cell_type": "code",
      "source": [
        "df.columns"
      ],
      "metadata": {
        "colab": {
          "base_uri": "https://localhost:8080/"
        },
        "id": "WqcK-w7lqiId",
        "outputId": "826528df-e763-43f9-eb76-673cc8fef5af"
      },
      "execution_count": null,
      "outputs": [
        {
          "output_type": "execute_result",
          "data": {
            "text/plain": [
              "Index(['사고신고사유', '사고일시', '공정율', '날씨', '지역', '공사종류', '공사비', '공종소분류', '사망자',\n",
              "       '내국인사망자', '외국인사망자', '남성사망자', '여성사망자', '10이상20미만 사망자', '20이상30미만 사망자',\n",
              "       '30이상40미만 사망자', '40이상50미만 사망자', '50이상60미만 사망자', '60이상사망자', '부상자',\n",
              "       '내국인부상자', '외국인부상자', '남성부상자', '여성부상자', '10이상20미만 부상자', '20이상30미만 부상자',\n",
              "       '30이상40미만 부상자', '40이상50미만 부상자', '50이상60미만 부상자', '60이상부상자'],\n",
              "      dtype='object')"
            ]
          },
          "metadata": {},
          "execution_count": 12
        }
      ]
    },
    {
      "cell_type": "code",
      "source": [
        "df['내국인사망자'].value_counts()"
      ],
      "metadata": {
        "colab": {
          "base_uri": "https://localhost:8080/"
        },
        "id": "uPfu8IczqoWz",
        "outputId": "edff44e9-681b-4074-c9f9-19c45f1b0427"
      },
      "execution_count": null,
      "outputs": [
        {
          "output_type": "execute_result",
          "data": {
            "text/plain": [
              "0     16925\n",
              "1       737\n",
              "2        14\n",
              "3         3\n",
              "35        1\n",
              "9         1\n",
              "6         1\n",
              "Name: 내국인사망자, dtype: int64"
            ]
          },
          "metadata": {},
          "execution_count": 15
        }
      ]
    },
    {
      "cell_type": "code",
      "source": [
        "df['외국인사망자'].value_counts()"
      ],
      "metadata": {
        "colab": {
          "base_uri": "https://localhost:8080/"
        },
        "id": "Gckw78s7q1nG",
        "outputId": "ddc26e07-a902-4894-c48a-89a0dc7ff887"
      },
      "execution_count": null,
      "outputs": [
        {
          "output_type": "execute_result",
          "data": {
            "text/plain": [
              "0    17570\n",
              "1      108\n",
              "3        4\n",
              "Name: 외국인사망자, dtype: int64"
            ]
          },
          "metadata": {},
          "execution_count": 16
        }
      ]
    },
    {
      "cell_type": "markdown",
      "source": [
        "# 피해자 칼럼 필요\n",
        "- 피해자가 내국인 / 외국인\n",
        "- 피해자의 나이\n",
        "- 피해자의 성별"
      ],
      "metadata": {
        "id": "CVToSe3Iq93c"
      }
    },
    {
      "cell_type": "markdown",
      "source": [
        "# 전처리\n",
        "- 사고 일시를 월 요일 시간으로 다 나눌까??\n",
        "- 피해자의 특성만 추출하기\n",
        "- 시설은 복잡해서 삭제해야 할듯?"
      ],
      "metadata": {
        "id": "E1AbWJs9r05n"
      }
    },
    {
      "cell_type": "code",
      "source": [
        "# 사고신고 사유를 사망과 3일정도의 부상으로 나누자\n",
        "\n",
        "df['사고신고사유'].value_counts()"
      ],
      "metadata": {
        "colab": {
          "base_uri": "https://localhost:8080/"
        },
        "id": "favCUb3nk2IC",
        "outputId": "18a9092c-a114-4609-c769-914c3a54e1da"
      },
      "execution_count": null,
      "outputs": [
        {
          "output_type": "execute_result",
          "data": {
            "text/plain": [
              "3일이상 휴업이 필요한 부상                                   15572\n",
              "사망 1명 이상                                            775\n",
              "3일이상 휴업이 필요한 부상, 기타                                 731\n",
              "기타                                                  353\n",
              "1000만원 이상의 재산피해                                      87\n",
              "1000만원 이상의 재산피해, 3일이상 휴업이 필요한 부상                     56\n",
              "사망 1명 이상, 3일이상 휴업이 필요한 부상                            39\n",
              "사망 1명 이상, 1000만원 이상의 재산피해                            23\n",
              "1000만원 이상의 재산피해, 기타                                  16\n",
              "사망 1명 이상, 1000만원 이상의 재산피해, 3일이상 휴업이 필요한 부상           14\n",
              "사망 1명 이상, 기타                                         11\n",
              "1000만원 이상의 재산피해, 3일이상 휴업이 필요한 부상, 기타                  4\n",
              "사망 1명 이상, 1000만원 이상의 재산피해, 3일이상 휴업이 필요한 부상, 기타        1\n",
              "Name: 사고신고사유, dtype: int64"
            ]
          },
          "metadata": {},
          "execution_count": 6
        }
      ]
    },
    {
      "cell_type": "code",
      "source": [
        "#3일 이상 휴업이 필요한 부상과 사망만 포함시키기\n",
        "\n",
        "str_q = \"(사고신고사유 == '사망 1명 이상') or (사고신고사유 == '3일이상 휴업이 필요한 부상')\"\n",
        "df    = df.query(str_q)\n",
        "df.reset_index(drop = True,inplace = True)"
      ],
      "metadata": {
        "id": "8TlrdGkFmLJS"
      },
      "execution_count": null,
      "outputs": []
    },
    {
      "cell_type": "code",
      "source": [
        "#사고 일시 나누기\n",
        "\n",
        "df.head(3)"
      ],
      "metadata": {
        "colab": {
          "base_uri": "https://localhost:8080/",
          "height": 373
        },
        "id": "0ttANgYumxxT",
        "outputId": "9a9d043c-f9ff-49cb-a38c-02e7db32598d"
      },
      "execution_count": null,
      "outputs": [
        {
          "output_type": "execute_result",
          "data": {
            "text/plain": [
              "   index           사고신고사유                 사고일시     공정율  날씨     지역  \\\n",
              "0      0  3일이상 휴업이 필요한 부상  2019-07-01 07:10:00  20~29%  맑음    경기도   \n",
              "1      2  3일이상 휴업이 필요한 부상  2019-07-01 09:30:00  60~69%  맑음    경기도   \n",
              "2      3  3일이상 휴업이 필요한 부상  2019-07-01 10:00:00  90% 이상  맑음  인천광역시   \n",
              "\n",
              "              공사종류                공사비 공종소분류  사망자  ...  여성부상자  10이상20미만 부상자  \\\n",
              "0      건축/건축물/업무시설      10억 ~ 20억원 미만    기타    0  ...      0             0   \n",
              "1  토목/옹벽 및 절토사면/옹벽         1,000억원 이상  가설공사    0  ...      0             0   \n",
              "2       토목/터널/철도터널  500억 ~ 1,000억원 미만  가설공사    0  ...      0             0   \n",
              "\n",
              "   20이상30미만 부상자  30이상40미만 부상자  40이상50미만 부상자  50이상60미만 부상자  60이상부상자  사고년도  사고월  \\\n",
              "0             0             0             0             1        0  2019   07   \n",
              "1             0             0             0             1        0  2019   07   \n",
              "2             0             0             0             0        1  2019   07   \n",
              "\n",
              "   사고시간  \n",
              "0    07  \n",
              "1    09  \n",
              "2    10  \n",
              "\n",
              "[3 rows x 34 columns]"
            ],
            "text/html": [
              "\n",
              "  <div id=\"df-49301144-9560-455e-a9c3-9441ec6130a7\">\n",
              "    <div class=\"colab-df-container\">\n",
              "      <div>\n",
              "<style scoped>\n",
              "    .dataframe tbody tr th:only-of-type {\n",
              "        vertical-align: middle;\n",
              "    }\n",
              "\n",
              "    .dataframe tbody tr th {\n",
              "        vertical-align: top;\n",
              "    }\n",
              "\n",
              "    .dataframe thead th {\n",
              "        text-align: right;\n",
              "    }\n",
              "</style>\n",
              "<table border=\"1\" class=\"dataframe\">\n",
              "  <thead>\n",
              "    <tr style=\"text-align: right;\">\n",
              "      <th></th>\n",
              "      <th>index</th>\n",
              "      <th>사고신고사유</th>\n",
              "      <th>사고일시</th>\n",
              "      <th>공정율</th>\n",
              "      <th>날씨</th>\n",
              "      <th>지역</th>\n",
              "      <th>공사종류</th>\n",
              "      <th>공사비</th>\n",
              "      <th>공종소분류</th>\n",
              "      <th>사망자</th>\n",
              "      <th>...</th>\n",
              "      <th>여성부상자</th>\n",
              "      <th>10이상20미만 부상자</th>\n",
              "      <th>20이상30미만 부상자</th>\n",
              "      <th>30이상40미만 부상자</th>\n",
              "      <th>40이상50미만 부상자</th>\n",
              "      <th>50이상60미만 부상자</th>\n",
              "      <th>60이상부상자</th>\n",
              "      <th>사고년도</th>\n",
              "      <th>사고월</th>\n",
              "      <th>사고시간</th>\n",
              "    </tr>\n",
              "  </thead>\n",
              "  <tbody>\n",
              "    <tr>\n",
              "      <th>0</th>\n",
              "      <td>0</td>\n",
              "      <td>3일이상 휴업이 필요한 부상</td>\n",
              "      <td>2019-07-01 07:10:00</td>\n",
              "      <td>20~29%</td>\n",
              "      <td>맑음</td>\n",
              "      <td>경기도</td>\n",
              "      <td>건축/건축물/업무시설</td>\n",
              "      <td>10억 ~ 20억원 미만</td>\n",
              "      <td>기타</td>\n",
              "      <td>0</td>\n",
              "      <td>...</td>\n",
              "      <td>0</td>\n",
              "      <td>0</td>\n",
              "      <td>0</td>\n",
              "      <td>0</td>\n",
              "      <td>0</td>\n",
              "      <td>1</td>\n",
              "      <td>0</td>\n",
              "      <td>2019</td>\n",
              "      <td>07</td>\n",
              "      <td>07</td>\n",
              "    </tr>\n",
              "    <tr>\n",
              "      <th>1</th>\n",
              "      <td>2</td>\n",
              "      <td>3일이상 휴업이 필요한 부상</td>\n",
              "      <td>2019-07-01 09:30:00</td>\n",
              "      <td>60~69%</td>\n",
              "      <td>맑음</td>\n",
              "      <td>경기도</td>\n",
              "      <td>토목/옹벽 및 절토사면/옹벽</td>\n",
              "      <td>1,000억원 이상</td>\n",
              "      <td>가설공사</td>\n",
              "      <td>0</td>\n",
              "      <td>...</td>\n",
              "      <td>0</td>\n",
              "      <td>0</td>\n",
              "      <td>0</td>\n",
              "      <td>0</td>\n",
              "      <td>0</td>\n",
              "      <td>1</td>\n",
              "      <td>0</td>\n",
              "      <td>2019</td>\n",
              "      <td>07</td>\n",
              "      <td>09</td>\n",
              "    </tr>\n",
              "    <tr>\n",
              "      <th>2</th>\n",
              "      <td>3</td>\n",
              "      <td>3일이상 휴업이 필요한 부상</td>\n",
              "      <td>2019-07-01 10:00:00</td>\n",
              "      <td>90% 이상</td>\n",
              "      <td>맑음</td>\n",
              "      <td>인천광역시</td>\n",
              "      <td>토목/터널/철도터널</td>\n",
              "      <td>500억 ~ 1,000억원 미만</td>\n",
              "      <td>가설공사</td>\n",
              "      <td>0</td>\n",
              "      <td>...</td>\n",
              "      <td>0</td>\n",
              "      <td>0</td>\n",
              "      <td>0</td>\n",
              "      <td>0</td>\n",
              "      <td>0</td>\n",
              "      <td>0</td>\n",
              "      <td>1</td>\n",
              "      <td>2019</td>\n",
              "      <td>07</td>\n",
              "      <td>10</td>\n",
              "    </tr>\n",
              "  </tbody>\n",
              "</table>\n",
              "<p>3 rows × 34 columns</p>\n",
              "</div>\n",
              "      <button class=\"colab-df-convert\" onclick=\"convertToInteractive('df-49301144-9560-455e-a9c3-9441ec6130a7')\"\n",
              "              title=\"Convert this dataframe to an interactive table.\"\n",
              "              style=\"display:none;\">\n",
              "        \n",
              "  <svg xmlns=\"http://www.w3.org/2000/svg\" height=\"24px\"viewBox=\"0 0 24 24\"\n",
              "       width=\"24px\">\n",
              "    <path d=\"M0 0h24v24H0V0z\" fill=\"none\"/>\n",
              "    <path d=\"M18.56 5.44l.94 2.06.94-2.06 2.06-.94-2.06-.94-.94-2.06-.94 2.06-2.06.94zm-11 1L8.5 8.5l.94-2.06 2.06-.94-2.06-.94L8.5 2.5l-.94 2.06-2.06.94zm10 10l.94 2.06.94-2.06 2.06-.94-2.06-.94-.94-2.06-.94 2.06-2.06.94z\"/><path d=\"M17.41 7.96l-1.37-1.37c-.4-.4-.92-.59-1.43-.59-.52 0-1.04.2-1.43.59L10.3 9.45l-7.72 7.72c-.78.78-.78 2.05 0 2.83L4 21.41c.39.39.9.59 1.41.59.51 0 1.02-.2 1.41-.59l7.78-7.78 2.81-2.81c.8-.78.8-2.07 0-2.86zM5.41 20L4 18.59l7.72-7.72 1.47 1.35L5.41 20z\"/>\n",
              "  </svg>\n",
              "      </button>\n",
              "      \n",
              "  <style>\n",
              "    .colab-df-container {\n",
              "      display:flex;\n",
              "      flex-wrap:wrap;\n",
              "      gap: 12px;\n",
              "    }\n",
              "\n",
              "    .colab-df-convert {\n",
              "      background-color: #E8F0FE;\n",
              "      border: none;\n",
              "      border-radius: 50%;\n",
              "      cursor: pointer;\n",
              "      display: none;\n",
              "      fill: #1967D2;\n",
              "      height: 32px;\n",
              "      padding: 0 0 0 0;\n",
              "      width: 32px;\n",
              "    }\n",
              "\n",
              "    .colab-df-convert:hover {\n",
              "      background-color: #E2EBFA;\n",
              "      box-shadow: 0px 1px 2px rgba(60, 64, 67, 0.3), 0px 1px 3px 1px rgba(60, 64, 67, 0.15);\n",
              "      fill: #174EA6;\n",
              "    }\n",
              "\n",
              "    [theme=dark] .colab-df-convert {\n",
              "      background-color: #3B4455;\n",
              "      fill: #D2E3FC;\n",
              "    }\n",
              "\n",
              "    [theme=dark] .colab-df-convert:hover {\n",
              "      background-color: #434B5C;\n",
              "      box-shadow: 0px 1px 3px 1px rgba(0, 0, 0, 0.15);\n",
              "      filter: drop-shadow(0px 1px 2px rgba(0, 0, 0, 0.3));\n",
              "      fill: #FFFFFF;\n",
              "    }\n",
              "  </style>\n",
              "\n",
              "      <script>\n",
              "        const buttonEl =\n",
              "          document.querySelector('#df-49301144-9560-455e-a9c3-9441ec6130a7 button.colab-df-convert');\n",
              "        buttonEl.style.display =\n",
              "          google.colab.kernel.accessAllowed ? 'block' : 'none';\n",
              "\n",
              "        async function convertToInteractive(key) {\n",
              "          const element = document.querySelector('#df-49301144-9560-455e-a9c3-9441ec6130a7');\n",
              "          const dataTable =\n",
              "            await google.colab.kernel.invokeFunction('convertToInteractive',\n",
              "                                                     [key], {});\n",
              "          if (!dataTable) return;\n",
              "\n",
              "          const docLinkHtml = 'Like what you see? Visit the ' +\n",
              "            '<a target=\"_blank\" href=https://colab.research.google.com/notebooks/data_table.ipynb>data table notebook</a>'\n",
              "            + ' to learn more about interactive tables.';\n",
              "          element.innerHTML = '';\n",
              "          dataTable['output_type'] = 'display_data';\n",
              "          await google.colab.output.renderOutput(dataTable, element);\n",
              "          const docLink = document.createElement('div');\n",
              "          docLink.innerHTML = docLinkHtml;\n",
              "          element.appendChild(docLink);\n",
              "        }\n",
              "      </script>\n",
              "    </div>\n",
              "  </div>\n",
              "  "
            ]
          },
          "metadata": {},
          "execution_count": 57
        }
      ]
    },
    {
      "cell_type": "code",
      "source": [
        "import re\n",
        "\n",
        "date=df['사고일시']\n",
        "year  = list(map(lambda x : x.split('-')[0],date.tolist()))\n",
        "month = list(map(lambda x : x.split('-')[1],date.tolist()))\n",
        "time  = list(map(lambda x : x[11:13],date.tolist()))"
      ],
      "metadata": {
        "id": "_gW7aJPZnSYp"
      },
      "execution_count": null,
      "outputs": []
    },
    {
      "cell_type": "code",
      "source": [
        "len(time) == len(month)"
      ],
      "metadata": {
        "colab": {
          "base_uri": "https://localhost:8080/"
        },
        "id": "Te_is4IXoqDQ",
        "outputId": "118d53dd-1da0-4dbd-f52d-50674407fbb4"
      },
      "execution_count": null,
      "outputs": [
        {
          "output_type": "execute_result",
          "data": {
            "text/plain": [
              "True"
            ]
          },
          "metadata": {},
          "execution_count": 53
        }
      ]
    },
    {
      "cell_type": "code",
      "source": [
        "df['사고년도'] = year\n",
        "df['사고월']   = month\n",
        "df['사고시간'] = time\n",
        "\n",
        "df.drop(columns = '사고일시', inplace = True)"
      ],
      "metadata": {
        "id": "FUNYTqnzovsg"
      },
      "execution_count": null,
      "outputs": []
    },
    {
      "cell_type": "code",
      "source": [
        "df['공정율'].unique()"
      ],
      "metadata": {
        "colab": {
          "base_uri": "https://localhost:8080/"
        },
        "id": "pu9H3NDipTwP",
        "outputId": "5a1d89df-84c0-401b-b0a1-6e8ed2534ccd"
      },
      "execution_count": null,
      "outputs": [
        {
          "output_type": "execute_result",
          "data": {
            "text/plain": [
              "array(['20~29%', '60~69%', '90% 이상', '50~59%', '30~39%', '10% 미만',\n",
              "       '10~19%', '70~79%', '80~89%', '40~49%'], dtype=object)"
            ]
          },
          "metadata": {},
          "execution_count": 55
        }
      ]
    },
    {
      "cell_type": "code",
      "source": [
        "df.head()"
      ],
      "metadata": {
        "colab": {
          "base_uri": "https://localhost:8080/",
          "height": 487
        },
        "id": "0VIQwndDq1X2",
        "outputId": "b2515784-e894-45e7-c37f-35ab015c2f4c"
      },
      "execution_count": null,
      "outputs": [
        {
          "output_type": "execute_result",
          "data": {
            "text/plain": [
              "   index           사고신고사유     공정율  날씨     지역             공사종류  \\\n",
              "0      0  3일이상 휴업이 필요한 부상  20~29%  맑음    경기도      건축/건축물/업무시설   \n",
              "1      2  3일이상 휴업이 필요한 부상  60~69%  맑음    경기도  토목/옹벽 및 절토사면/옹벽   \n",
              "2      3  3일이상 휴업이 필요한 부상  90% 이상  맑음  인천광역시       토목/터널/철도터널   \n",
              "3      4  3일이상 휴업이 필요한 부상  50~59%  맑음    경기도      건축/건축물/공동주택   \n",
              "4      5  3일이상 휴업이 필요한 부상  20~29%  흐림    경기도      건축/건축물/공동주택   \n",
              "\n",
              "                 공사비   공종소분류  사망자  내국인사망자  ...  여성부상자  10이상20미만 부상자  \\\n",
              "0      10억 ~ 20억원 미만      기타    0       0  ...      0             0   \n",
              "1         1,000억원 이상    가설공사    0       0  ...      0             0   \n",
              "2  500억 ~ 1,000억원 미만    가설공사    0       0  ...      0             0   \n",
              "3  500억 ~ 1,000억원 미만  전기설비공사    0       0  ...      0             0   \n",
              "4         1,000억원 이상      기타    0       0  ...      0             0   \n",
              "\n",
              "   20이상30미만 부상자  30이상40미만 부상자  40이상50미만 부상자  50이상60미만 부상자  60이상부상자  사고년도  사고월  \\\n",
              "0             0             0             0             1        0  2019   07   \n",
              "1             0             0             0             1        0  2019   07   \n",
              "2             0             0             0             0        1  2019   07   \n",
              "3             0             0             0             1        0  2019   07   \n",
              "4             0             0             0             0        1  2019   07   \n",
              "\n",
              "   사고시간  \n",
              "0    07  \n",
              "1    09  \n",
              "2    10  \n",
              "3    10  \n",
              "4    10  \n",
              "\n",
              "[5 rows x 33 columns]"
            ],
            "text/html": [
              "\n",
              "  <div id=\"df-c40aa6b0-39cc-4f1c-a09a-c12ca4330a88\">\n",
              "    <div class=\"colab-df-container\">\n",
              "      <div>\n",
              "<style scoped>\n",
              "    .dataframe tbody tr th:only-of-type {\n",
              "        vertical-align: middle;\n",
              "    }\n",
              "\n",
              "    .dataframe tbody tr th {\n",
              "        vertical-align: top;\n",
              "    }\n",
              "\n",
              "    .dataframe thead th {\n",
              "        text-align: right;\n",
              "    }\n",
              "</style>\n",
              "<table border=\"1\" class=\"dataframe\">\n",
              "  <thead>\n",
              "    <tr style=\"text-align: right;\">\n",
              "      <th></th>\n",
              "      <th>index</th>\n",
              "      <th>사고신고사유</th>\n",
              "      <th>공정율</th>\n",
              "      <th>날씨</th>\n",
              "      <th>지역</th>\n",
              "      <th>공사종류</th>\n",
              "      <th>공사비</th>\n",
              "      <th>공종소분류</th>\n",
              "      <th>사망자</th>\n",
              "      <th>내국인사망자</th>\n",
              "      <th>...</th>\n",
              "      <th>여성부상자</th>\n",
              "      <th>10이상20미만 부상자</th>\n",
              "      <th>20이상30미만 부상자</th>\n",
              "      <th>30이상40미만 부상자</th>\n",
              "      <th>40이상50미만 부상자</th>\n",
              "      <th>50이상60미만 부상자</th>\n",
              "      <th>60이상부상자</th>\n",
              "      <th>사고년도</th>\n",
              "      <th>사고월</th>\n",
              "      <th>사고시간</th>\n",
              "    </tr>\n",
              "  </thead>\n",
              "  <tbody>\n",
              "    <tr>\n",
              "      <th>0</th>\n",
              "      <td>0</td>\n",
              "      <td>3일이상 휴업이 필요한 부상</td>\n",
              "      <td>20~29%</td>\n",
              "      <td>맑음</td>\n",
              "      <td>경기도</td>\n",
              "      <td>건축/건축물/업무시설</td>\n",
              "      <td>10억 ~ 20억원 미만</td>\n",
              "      <td>기타</td>\n",
              "      <td>0</td>\n",
              "      <td>0</td>\n",
              "      <td>...</td>\n",
              "      <td>0</td>\n",
              "      <td>0</td>\n",
              "      <td>0</td>\n",
              "      <td>0</td>\n",
              "      <td>0</td>\n",
              "      <td>1</td>\n",
              "      <td>0</td>\n",
              "      <td>2019</td>\n",
              "      <td>07</td>\n",
              "      <td>07</td>\n",
              "    </tr>\n",
              "    <tr>\n",
              "      <th>1</th>\n",
              "      <td>2</td>\n",
              "      <td>3일이상 휴업이 필요한 부상</td>\n",
              "      <td>60~69%</td>\n",
              "      <td>맑음</td>\n",
              "      <td>경기도</td>\n",
              "      <td>토목/옹벽 및 절토사면/옹벽</td>\n",
              "      <td>1,000억원 이상</td>\n",
              "      <td>가설공사</td>\n",
              "      <td>0</td>\n",
              "      <td>0</td>\n",
              "      <td>...</td>\n",
              "      <td>0</td>\n",
              "      <td>0</td>\n",
              "      <td>0</td>\n",
              "      <td>0</td>\n",
              "      <td>0</td>\n",
              "      <td>1</td>\n",
              "      <td>0</td>\n",
              "      <td>2019</td>\n",
              "      <td>07</td>\n",
              "      <td>09</td>\n",
              "    </tr>\n",
              "    <tr>\n",
              "      <th>2</th>\n",
              "      <td>3</td>\n",
              "      <td>3일이상 휴업이 필요한 부상</td>\n",
              "      <td>90% 이상</td>\n",
              "      <td>맑음</td>\n",
              "      <td>인천광역시</td>\n",
              "      <td>토목/터널/철도터널</td>\n",
              "      <td>500억 ~ 1,000억원 미만</td>\n",
              "      <td>가설공사</td>\n",
              "      <td>0</td>\n",
              "      <td>0</td>\n",
              "      <td>...</td>\n",
              "      <td>0</td>\n",
              "      <td>0</td>\n",
              "      <td>0</td>\n",
              "      <td>0</td>\n",
              "      <td>0</td>\n",
              "      <td>0</td>\n",
              "      <td>1</td>\n",
              "      <td>2019</td>\n",
              "      <td>07</td>\n",
              "      <td>10</td>\n",
              "    </tr>\n",
              "    <tr>\n",
              "      <th>3</th>\n",
              "      <td>4</td>\n",
              "      <td>3일이상 휴업이 필요한 부상</td>\n",
              "      <td>50~59%</td>\n",
              "      <td>맑음</td>\n",
              "      <td>경기도</td>\n",
              "      <td>건축/건축물/공동주택</td>\n",
              "      <td>500억 ~ 1,000억원 미만</td>\n",
              "      <td>전기설비공사</td>\n",
              "      <td>0</td>\n",
              "      <td>0</td>\n",
              "      <td>...</td>\n",
              "      <td>0</td>\n",
              "      <td>0</td>\n",
              "      <td>0</td>\n",
              "      <td>0</td>\n",
              "      <td>0</td>\n",
              "      <td>1</td>\n",
              "      <td>0</td>\n",
              "      <td>2019</td>\n",
              "      <td>07</td>\n",
              "      <td>10</td>\n",
              "    </tr>\n",
              "    <tr>\n",
              "      <th>4</th>\n",
              "      <td>5</td>\n",
              "      <td>3일이상 휴업이 필요한 부상</td>\n",
              "      <td>20~29%</td>\n",
              "      <td>흐림</td>\n",
              "      <td>경기도</td>\n",
              "      <td>건축/건축물/공동주택</td>\n",
              "      <td>1,000억원 이상</td>\n",
              "      <td>기타</td>\n",
              "      <td>0</td>\n",
              "      <td>0</td>\n",
              "      <td>...</td>\n",
              "      <td>0</td>\n",
              "      <td>0</td>\n",
              "      <td>0</td>\n",
              "      <td>0</td>\n",
              "      <td>0</td>\n",
              "      <td>0</td>\n",
              "      <td>1</td>\n",
              "      <td>2019</td>\n",
              "      <td>07</td>\n",
              "      <td>10</td>\n",
              "    </tr>\n",
              "  </tbody>\n",
              "</table>\n",
              "<p>5 rows × 33 columns</p>\n",
              "</div>\n",
              "      <button class=\"colab-df-convert\" onclick=\"convertToInteractive('df-c40aa6b0-39cc-4f1c-a09a-c12ca4330a88')\"\n",
              "              title=\"Convert this dataframe to an interactive table.\"\n",
              "              style=\"display:none;\">\n",
              "        \n",
              "  <svg xmlns=\"http://www.w3.org/2000/svg\" height=\"24px\"viewBox=\"0 0 24 24\"\n",
              "       width=\"24px\">\n",
              "    <path d=\"M0 0h24v24H0V0z\" fill=\"none\"/>\n",
              "    <path d=\"M18.56 5.44l.94 2.06.94-2.06 2.06-.94-2.06-.94-.94-2.06-.94 2.06-2.06.94zm-11 1L8.5 8.5l.94-2.06 2.06-.94-2.06-.94L8.5 2.5l-.94 2.06-2.06.94zm10 10l.94 2.06.94-2.06 2.06-.94-2.06-.94-.94-2.06-.94 2.06-2.06.94z\"/><path d=\"M17.41 7.96l-1.37-1.37c-.4-.4-.92-.59-1.43-.59-.52 0-1.04.2-1.43.59L10.3 9.45l-7.72 7.72c-.78.78-.78 2.05 0 2.83L4 21.41c.39.39.9.59 1.41.59.51 0 1.02-.2 1.41-.59l7.78-7.78 2.81-2.81c.8-.78.8-2.07 0-2.86zM5.41 20L4 18.59l7.72-7.72 1.47 1.35L5.41 20z\"/>\n",
              "  </svg>\n",
              "      </button>\n",
              "      \n",
              "  <style>\n",
              "    .colab-df-container {\n",
              "      display:flex;\n",
              "      flex-wrap:wrap;\n",
              "      gap: 12px;\n",
              "    }\n",
              "\n",
              "    .colab-df-convert {\n",
              "      background-color: #E8F0FE;\n",
              "      border: none;\n",
              "      border-radius: 50%;\n",
              "      cursor: pointer;\n",
              "      display: none;\n",
              "      fill: #1967D2;\n",
              "      height: 32px;\n",
              "      padding: 0 0 0 0;\n",
              "      width: 32px;\n",
              "    }\n",
              "\n",
              "    .colab-df-convert:hover {\n",
              "      background-color: #E2EBFA;\n",
              "      box-shadow: 0px 1px 2px rgba(60, 64, 67, 0.3), 0px 1px 3px 1px rgba(60, 64, 67, 0.15);\n",
              "      fill: #174EA6;\n",
              "    }\n",
              "\n",
              "    [theme=dark] .colab-df-convert {\n",
              "      background-color: #3B4455;\n",
              "      fill: #D2E3FC;\n",
              "    }\n",
              "\n",
              "    [theme=dark] .colab-df-convert:hover {\n",
              "      background-color: #434B5C;\n",
              "      box-shadow: 0px 1px 3px 1px rgba(0, 0, 0, 0.15);\n",
              "      filter: drop-shadow(0px 1px 2px rgba(0, 0, 0, 0.3));\n",
              "      fill: #FFFFFF;\n",
              "    }\n",
              "  </style>\n",
              "\n",
              "      <script>\n",
              "        const buttonEl =\n",
              "          document.querySelector('#df-c40aa6b0-39cc-4f1c-a09a-c12ca4330a88 button.colab-df-convert');\n",
              "        buttonEl.style.display =\n",
              "          google.colab.kernel.accessAllowed ? 'block' : 'none';\n",
              "\n",
              "        async function convertToInteractive(key) {\n",
              "          const element = document.querySelector('#df-c40aa6b0-39cc-4f1c-a09a-c12ca4330a88');\n",
              "          const dataTable =\n",
              "            await google.colab.kernel.invokeFunction('convertToInteractive',\n",
              "                                                     [key], {});\n",
              "          if (!dataTable) return;\n",
              "\n",
              "          const docLinkHtml = 'Like what you see? Visit the ' +\n",
              "            '<a target=\"_blank\" href=https://colab.research.google.com/notebooks/data_table.ipynb>data table notebook</a>'\n",
              "            + ' to learn more about interactive tables.';\n",
              "          element.innerHTML = '';\n",
              "          dataTable['output_type'] = 'display_data';\n",
              "          await google.colab.output.renderOutput(dataTable, element);\n",
              "          const docLink = document.createElement('div');\n",
              "          docLink.innerHTML = docLinkHtml;\n",
              "          element.appendChild(docLink);\n",
              "        }\n",
              "      </script>\n",
              "    </div>\n",
              "  </div>\n",
              "  "
            ]
          },
          "metadata": {},
          "execution_count": 59
        }
      ]
    },
    {
      "cell_type": "code",
      "source": [
        "#어짜피 건설업 부류이고 공사 소분류가 있으니 공사종류의 경우는 건물의 차이이니 중요한 특성은 아님\n",
        "#카디널리티도 높다보니 이 칼럼은 지우자\n",
        "\n",
        "df['공사종류'].value_counts()\n",
        "df.drop(columns = '공사종류',inplace= True)"
      ],
      "metadata": {
        "id": "PdXqm71irNIG"
      },
      "execution_count": null,
      "outputs": []
    },
    {
      "cell_type": "code",
      "source": [
        "#공사비도 분류불능은 지우자 131\n",
        "df['공사비'].value_counts()\n",
        "id1=df.query('공사비 == \"분류불능\"').index\n",
        "df.drop(index = id1,inplace = True)\n",
        "df.reset_index(drop=True,inplace = True)"
      ],
      "metadata": {
        "id": "14X0hwqUr5On"
      },
      "execution_count": null,
      "outputs": []
    },
    {
      "cell_type": "code",
      "source": [
        "#미입력은 지우자\n",
        "df['공종소분류'].value_counts()\n",
        "id2=df.query('공종소분류 == \"미입력\"').index\n",
        "df.drop(index = id2,inplace = True)\n",
        "df.reset_index(drop=True,inplace = True)"
      ],
      "metadata": {
        "id": "V5mVmS9Lsek1"
      },
      "execution_count": null,
      "outputs": []
    },
    {
      "cell_type": "code",
      "source": [
        "# 인구통계학적 특성\n",
        "# 사고데이터에서 성별/ 나이/ 내국인 이정도 특성을 뽑아보자\n",
        "\n",
        "df.columns"
      ],
      "metadata": {
        "colab": {
          "base_uri": "https://localhost:8080/"
        },
        "id": "R5nsy6KPtI1D",
        "outputId": "d3b209ca-3823-43bd-b8ce-f0953ee7bc04"
      },
      "execution_count": null,
      "outputs": [
        {
          "output_type": "execute_result",
          "data": {
            "text/plain": [
              "Index(['index', '사고신고사유', '공정율', '날씨', '지역', '공사비', '공종소분류', '사망자', '내국인사망자',\n",
              "       '외국인사망자', '남성사망자', '여성사망자', '10이상20미만 사망자', '20이상30미만 사망자',\n",
              "       '30이상40미만 사망자', '40이상50미만 사망자', '50이상60미만 사망자', '60이상사망자', '부상자',\n",
              "       '내국인부상자', '외국인부상자', '남성부상자', '여성부상자', '10이상20미만 부상자', '20이상30미만 부상자',\n",
              "       '30이상40미만 부상자', '40이상50미만 부상자', '50이상60미만 부상자', '60이상부상자', '사고년도',\n",
              "       '사고월', '사고시간'],\n",
              "      dtype='object')"
            ]
          },
          "metadata": {},
          "execution_count": 75
        }
      ]
    },
    {
      "cell_type": "code",
      "source": [
        "# 사망자 2명이상은 인구통계적 특성을 뽑기 어려우니 지움\n",
        "\n",
        "df['사망자'].value_counts()\n",
        "df.drop(index = df.query('(사망자 == 2) or (사망자 == 3)').index,inplace = True)\n",
        "df.reset_index(drop=True,inplace = True)"
      ],
      "metadata": {
        "id": "MWEd8Poot3Ds"
      },
      "execution_count": null,
      "outputs": []
    },
    {
      "cell_type": "code",
      "source": [
        "# 부상자 2명이상은 인구통계적 특성을 뽑기 어려우니 지움\n",
        "\n",
        "\n",
        "df['부상자'].value_counts()\n",
        "df.drop(index = df.query('(부상자 == 2) or (부상자 == 3) or (부상자 == 4) or (부상자 == 5)').index,inplace = True)\n",
        "df.reset_index(drop=True,inplace = True)"
      ],
      "metadata": {
        "id": "UNN3r9BEvBFy"
      },
      "execution_count": null,
      "outputs": []
    },
    {
      "cell_type": "code",
      "source": [
        "# 여성과 남상 부상자도 삭제하기\n",
        "\n",
        "df['남성부상자'].value_counts()\n",
        "df.drop(index = df.query('(남성부상자 == 2) or (남성부상자 == 3) or (남성부상자 == 4) or (남성부상자 == 14) or (남성부상자 == 7)').index,inplace = True)\n",
        "df.reset_index(drop=True,inplace = True)"
      ],
      "metadata": {
        "id": "QKKLnDTtwoaB"
      },
      "execution_count": null,
      "outputs": []
    },
    {
      "cell_type": "code",
      "source": [
        "df['남성부상자'].value_counts()"
      ],
      "metadata": {
        "colab": {
          "base_uri": "https://localhost:8080/"
        },
        "id": "6yxeI-s9vdwC",
        "outputId": "0d53852b-aac7-436e-9a87-efc90415e079"
      },
      "execution_count": null,
      "outputs": [
        {
          "output_type": "execute_result",
          "data": {
            "text/plain": [
              "1    14877\n",
              "0     1224\n",
              "Name: 남성부상자, dtype: int64"
            ]
          },
          "metadata": {},
          "execution_count": 95
        }
      ]
    },
    {
      "cell_type": "code",
      "source": [
        "df['여성부상자'].value_counts()\n",
        "df.drop(index = df.query('여성부상자 == 2').index,inplace = True)\n",
        "df.reset_index(drop=True,inplace = True)"
      ],
      "metadata": {
        "id": "PDeXmnrKxHF5"
      },
      "execution_count": null,
      "outputs": []
    },
    {
      "cell_type": "code",
      "source": [
        "df['여성부상자'].value_counts()"
      ],
      "metadata": {
        "colab": {
          "base_uri": "https://localhost:8080/"
        },
        "id": "lPiFlg44wZLx",
        "outputId": "74929e87-29ed-40db-ea0e-ac6bdbfca78e"
      },
      "execution_count": null,
      "outputs": [
        {
          "output_type": "execute_result",
          "data": {
            "text/plain": [
              "0    15655\n",
              "1      445\n",
              "Name: 여성부상자, dtype: int64"
            ]
          },
          "metadata": {},
          "execution_count": 97
        }
      ]
    },
    {
      "cell_type": "code",
      "source": [
        "#반복문으로 돌면서 인구통계학적 특성을 뽑기\n",
        "#먼저 성별\n",
        "s_li = []\n",
        "\n",
        "\n",
        "for i in range(df.shape[0]):\n",
        "  try:\n",
        "    temp = df.iloc[i]\n",
        "    #성별 추출\n",
        "    if temp['남성부상자'] == 1:\n",
        "      s_li.append(1)\n",
        "    elif temp['남성사망자'] == 1:\n",
        "      s_li.append(1)\n",
        "    else:\n",
        "      s_li.append(0)\n",
        "  except:\n",
        "    print(f\"{i}번째에서 오류발생\")"
      ],
      "metadata": {
        "id": "T5lBoS6RxXaQ"
      },
      "execution_count": null,
      "outputs": []
    },
    {
      "cell_type": "code",
      "source": [
        "#내국인/외국인\n",
        "f_li = []\n",
        "\n",
        "for i in range(df.shape[0]):\n",
        "  try:\n",
        "    temp = df.iloc[i]\n",
        "    #성별 추출\n",
        "    if temp['내국인부상자'] == 1:\n",
        "      f_li.append(1)\n",
        "    elif temp['내국인사망자'] == 1:\n",
        "      f_li.append(1)\n",
        "    else:\n",
        "      f_li.append(0)\n",
        "  except:\n",
        "    print(f\"{i}번째에서 오류발생\")"
      ],
      "metadata": {
        "id": "FOd8GOxGyx6g"
      },
      "execution_count": null,
      "outputs": []
    },
    {
      "cell_type": "code",
      "source": [
        "#나이\n",
        "a_li = []\n",
        "for i in range(df.shape[0]):\n",
        "  try:\n",
        "    temp = df.iloc[i]\n",
        "    if temp['10이상20미만 사망자'] == 1 or temp['10이상20미만 부상자'] == 1:\n",
        "      a_li.append(10)\n",
        "    elif temp['20이상30미만 사망자'] == 1 or temp['20이상30미만 부상자'] == 1:\n",
        "      a_li.append(20)\n",
        "    elif temp['30이상40미만 사망자'] == 1 or temp['30이상40미만 부상자'] == 1:\n",
        "      a_li.append(30)\n",
        "    elif temp['40이상50미만 사망자'] == 1 or temp['40이상50미만 부상자'] == 1:\n",
        "      a_li.append(40)\n",
        "    elif temp['50이상60미만 사망자'] == 1 or temp['50이상60미만 부상자'] == 1:\n",
        "      a_li.append(50)\n",
        "    else:\n",
        "      a_li.append(60)\n",
        "  except:\n",
        "    print(f\"{i}번째 오류발생\")"
      ],
      "metadata": {
        "id": "63uC8pY4zPIG"
      },
      "execution_count": null,
      "outputs": []
    },
    {
      "cell_type": "code",
      "source": [
        "len(a_li) == len(s_li) == len(f_li)"
      ],
      "metadata": {
        "colab": {
          "base_uri": "https://localhost:8080/"
        },
        "id": "GZ1hSMXH0jrN",
        "outputId": "d0053b9b-85b8-4d53-eb1e-ea4b4bc6eadd"
      },
      "execution_count": null,
      "outputs": [
        {
          "output_type": "execute_result",
          "data": {
            "text/plain": [
              "True"
            ]
          },
          "metadata": {},
          "execution_count": 111
        }
      ]
    },
    {
      "cell_type": "code",
      "source": [
        "df['성별'] = s_li\n",
        "df['국적'] = f_li\n",
        "df['나이'] = a_li"
      ],
      "metadata": {
        "id": "-RMuJFEE1oP8"
      },
      "execution_count": null,
      "outputs": []
    },
    {
      "cell_type": "code",
      "source": [
        "df.head()"
      ],
      "metadata": {
        "colab": {
          "base_uri": "https://localhost:8080/",
          "height": 487
        },
        "id": "gv1X2Auu10kA",
        "outputId": "e36a0d62-93e8-452b-a992-80855b49ef3e"
      },
      "execution_count": null,
      "outputs": [
        {
          "output_type": "execute_result",
          "data": {
            "text/plain": [
              "   index           사고신고사유     공정율  날씨     지역                공사비   공종소분류  사망자  \\\n",
              "0      0  3일이상 휴업이 필요한 부상  20~29%  맑음    경기도      10억 ~ 20억원 미만      기타    0   \n",
              "1      2  3일이상 휴업이 필요한 부상  60~69%  맑음    경기도         1,000억원 이상    가설공사    0   \n",
              "2      3  3일이상 휴업이 필요한 부상  90% 이상  맑음  인천광역시  500억 ~ 1,000억원 미만    가설공사    0   \n",
              "3      4  3일이상 휴업이 필요한 부상  50~59%  맑음    경기도  500억 ~ 1,000억원 미만  전기설비공사    0   \n",
              "4      5  3일이상 휴업이 필요한 부상  20~29%  흐림    경기도         1,000억원 이상      기타    0   \n",
              "\n",
              "   내국인사망자  외국인사망자  ...  30이상40미만 부상자  40이상50미만 부상자  50이상60미만 부상자  60이상부상자  \\\n",
              "0       0       0  ...             0             0             1        0   \n",
              "1       0       0  ...             0             0             1        0   \n",
              "2       0       0  ...             0             0             0        1   \n",
              "3       0       0  ...             0             0             1        0   \n",
              "4       0       0  ...             0             0             0        1   \n",
              "\n",
              "   사고년도  사고월  사고시간  성별  국적  나이  \n",
              "0  2019   07    07   1   1  50  \n",
              "1  2019   07    09   1   1  50  \n",
              "2  2019   07    10   1   1  60  \n",
              "3  2019   07    10   1   1  50  \n",
              "4  2019   07    10   1   1  60  \n",
              "\n",
              "[5 rows x 35 columns]"
            ],
            "text/html": [
              "\n",
              "  <div id=\"df-c04f61c6-dfc9-4c88-8af1-211bd64ab64b\">\n",
              "    <div class=\"colab-df-container\">\n",
              "      <div>\n",
              "<style scoped>\n",
              "    .dataframe tbody tr th:only-of-type {\n",
              "        vertical-align: middle;\n",
              "    }\n",
              "\n",
              "    .dataframe tbody tr th {\n",
              "        vertical-align: top;\n",
              "    }\n",
              "\n",
              "    .dataframe thead th {\n",
              "        text-align: right;\n",
              "    }\n",
              "</style>\n",
              "<table border=\"1\" class=\"dataframe\">\n",
              "  <thead>\n",
              "    <tr style=\"text-align: right;\">\n",
              "      <th></th>\n",
              "      <th>index</th>\n",
              "      <th>사고신고사유</th>\n",
              "      <th>공정율</th>\n",
              "      <th>날씨</th>\n",
              "      <th>지역</th>\n",
              "      <th>공사비</th>\n",
              "      <th>공종소분류</th>\n",
              "      <th>사망자</th>\n",
              "      <th>내국인사망자</th>\n",
              "      <th>외국인사망자</th>\n",
              "      <th>...</th>\n",
              "      <th>30이상40미만 부상자</th>\n",
              "      <th>40이상50미만 부상자</th>\n",
              "      <th>50이상60미만 부상자</th>\n",
              "      <th>60이상부상자</th>\n",
              "      <th>사고년도</th>\n",
              "      <th>사고월</th>\n",
              "      <th>사고시간</th>\n",
              "      <th>성별</th>\n",
              "      <th>국적</th>\n",
              "      <th>나이</th>\n",
              "    </tr>\n",
              "  </thead>\n",
              "  <tbody>\n",
              "    <tr>\n",
              "      <th>0</th>\n",
              "      <td>0</td>\n",
              "      <td>3일이상 휴업이 필요한 부상</td>\n",
              "      <td>20~29%</td>\n",
              "      <td>맑음</td>\n",
              "      <td>경기도</td>\n",
              "      <td>10억 ~ 20억원 미만</td>\n",
              "      <td>기타</td>\n",
              "      <td>0</td>\n",
              "      <td>0</td>\n",
              "      <td>0</td>\n",
              "      <td>...</td>\n",
              "      <td>0</td>\n",
              "      <td>0</td>\n",
              "      <td>1</td>\n",
              "      <td>0</td>\n",
              "      <td>2019</td>\n",
              "      <td>07</td>\n",
              "      <td>07</td>\n",
              "      <td>1</td>\n",
              "      <td>1</td>\n",
              "      <td>50</td>\n",
              "    </tr>\n",
              "    <tr>\n",
              "      <th>1</th>\n",
              "      <td>2</td>\n",
              "      <td>3일이상 휴업이 필요한 부상</td>\n",
              "      <td>60~69%</td>\n",
              "      <td>맑음</td>\n",
              "      <td>경기도</td>\n",
              "      <td>1,000억원 이상</td>\n",
              "      <td>가설공사</td>\n",
              "      <td>0</td>\n",
              "      <td>0</td>\n",
              "      <td>0</td>\n",
              "      <td>...</td>\n",
              "      <td>0</td>\n",
              "      <td>0</td>\n",
              "      <td>1</td>\n",
              "      <td>0</td>\n",
              "      <td>2019</td>\n",
              "      <td>07</td>\n",
              "      <td>09</td>\n",
              "      <td>1</td>\n",
              "      <td>1</td>\n",
              "      <td>50</td>\n",
              "    </tr>\n",
              "    <tr>\n",
              "      <th>2</th>\n",
              "      <td>3</td>\n",
              "      <td>3일이상 휴업이 필요한 부상</td>\n",
              "      <td>90% 이상</td>\n",
              "      <td>맑음</td>\n",
              "      <td>인천광역시</td>\n",
              "      <td>500억 ~ 1,000억원 미만</td>\n",
              "      <td>가설공사</td>\n",
              "      <td>0</td>\n",
              "      <td>0</td>\n",
              "      <td>0</td>\n",
              "      <td>...</td>\n",
              "      <td>0</td>\n",
              "      <td>0</td>\n",
              "      <td>0</td>\n",
              "      <td>1</td>\n",
              "      <td>2019</td>\n",
              "      <td>07</td>\n",
              "      <td>10</td>\n",
              "      <td>1</td>\n",
              "      <td>1</td>\n",
              "      <td>60</td>\n",
              "    </tr>\n",
              "    <tr>\n",
              "      <th>3</th>\n",
              "      <td>4</td>\n",
              "      <td>3일이상 휴업이 필요한 부상</td>\n",
              "      <td>50~59%</td>\n",
              "      <td>맑음</td>\n",
              "      <td>경기도</td>\n",
              "      <td>500억 ~ 1,000억원 미만</td>\n",
              "      <td>전기설비공사</td>\n",
              "      <td>0</td>\n",
              "      <td>0</td>\n",
              "      <td>0</td>\n",
              "      <td>...</td>\n",
              "      <td>0</td>\n",
              "      <td>0</td>\n",
              "      <td>1</td>\n",
              "      <td>0</td>\n",
              "      <td>2019</td>\n",
              "      <td>07</td>\n",
              "      <td>10</td>\n",
              "      <td>1</td>\n",
              "      <td>1</td>\n",
              "      <td>50</td>\n",
              "    </tr>\n",
              "    <tr>\n",
              "      <th>4</th>\n",
              "      <td>5</td>\n",
              "      <td>3일이상 휴업이 필요한 부상</td>\n",
              "      <td>20~29%</td>\n",
              "      <td>흐림</td>\n",
              "      <td>경기도</td>\n",
              "      <td>1,000억원 이상</td>\n",
              "      <td>기타</td>\n",
              "      <td>0</td>\n",
              "      <td>0</td>\n",
              "      <td>0</td>\n",
              "      <td>...</td>\n",
              "      <td>0</td>\n",
              "      <td>0</td>\n",
              "      <td>0</td>\n",
              "      <td>1</td>\n",
              "      <td>2019</td>\n",
              "      <td>07</td>\n",
              "      <td>10</td>\n",
              "      <td>1</td>\n",
              "      <td>1</td>\n",
              "      <td>60</td>\n",
              "    </tr>\n",
              "  </tbody>\n",
              "</table>\n",
              "<p>5 rows × 35 columns</p>\n",
              "</div>\n",
              "      <button class=\"colab-df-convert\" onclick=\"convertToInteractive('df-c04f61c6-dfc9-4c88-8af1-211bd64ab64b')\"\n",
              "              title=\"Convert this dataframe to an interactive table.\"\n",
              "              style=\"display:none;\">\n",
              "        \n",
              "  <svg xmlns=\"http://www.w3.org/2000/svg\" height=\"24px\"viewBox=\"0 0 24 24\"\n",
              "       width=\"24px\">\n",
              "    <path d=\"M0 0h24v24H0V0z\" fill=\"none\"/>\n",
              "    <path d=\"M18.56 5.44l.94 2.06.94-2.06 2.06-.94-2.06-.94-.94-2.06-.94 2.06-2.06.94zm-11 1L8.5 8.5l.94-2.06 2.06-.94-2.06-.94L8.5 2.5l-.94 2.06-2.06.94zm10 10l.94 2.06.94-2.06 2.06-.94-2.06-.94-.94-2.06-.94 2.06-2.06.94z\"/><path d=\"M17.41 7.96l-1.37-1.37c-.4-.4-.92-.59-1.43-.59-.52 0-1.04.2-1.43.59L10.3 9.45l-7.72 7.72c-.78.78-.78 2.05 0 2.83L4 21.41c.39.39.9.59 1.41.59.51 0 1.02-.2 1.41-.59l7.78-7.78 2.81-2.81c.8-.78.8-2.07 0-2.86zM5.41 20L4 18.59l7.72-7.72 1.47 1.35L5.41 20z\"/>\n",
              "  </svg>\n",
              "      </button>\n",
              "      \n",
              "  <style>\n",
              "    .colab-df-container {\n",
              "      display:flex;\n",
              "      flex-wrap:wrap;\n",
              "      gap: 12px;\n",
              "    }\n",
              "\n",
              "    .colab-df-convert {\n",
              "      background-color: #E8F0FE;\n",
              "      border: none;\n",
              "      border-radius: 50%;\n",
              "      cursor: pointer;\n",
              "      display: none;\n",
              "      fill: #1967D2;\n",
              "      height: 32px;\n",
              "      padding: 0 0 0 0;\n",
              "      width: 32px;\n",
              "    }\n",
              "\n",
              "    .colab-df-convert:hover {\n",
              "      background-color: #E2EBFA;\n",
              "      box-shadow: 0px 1px 2px rgba(60, 64, 67, 0.3), 0px 1px 3px 1px rgba(60, 64, 67, 0.15);\n",
              "      fill: #174EA6;\n",
              "    }\n",
              "\n",
              "    [theme=dark] .colab-df-convert {\n",
              "      background-color: #3B4455;\n",
              "      fill: #D2E3FC;\n",
              "    }\n",
              "\n",
              "    [theme=dark] .colab-df-convert:hover {\n",
              "      background-color: #434B5C;\n",
              "      box-shadow: 0px 1px 3px 1px rgba(0, 0, 0, 0.15);\n",
              "      filter: drop-shadow(0px 1px 2px rgba(0, 0, 0, 0.3));\n",
              "      fill: #FFFFFF;\n",
              "    }\n",
              "  </style>\n",
              "\n",
              "      <script>\n",
              "        const buttonEl =\n",
              "          document.querySelector('#df-c04f61c6-dfc9-4c88-8af1-211bd64ab64b button.colab-df-convert');\n",
              "        buttonEl.style.display =\n",
              "          google.colab.kernel.accessAllowed ? 'block' : 'none';\n",
              "\n",
              "        async function convertToInteractive(key) {\n",
              "          const element = document.querySelector('#df-c04f61c6-dfc9-4c88-8af1-211bd64ab64b');\n",
              "          const dataTable =\n",
              "            await google.colab.kernel.invokeFunction('convertToInteractive',\n",
              "                                                     [key], {});\n",
              "          if (!dataTable) return;\n",
              "\n",
              "          const docLinkHtml = 'Like what you see? Visit the ' +\n",
              "            '<a target=\"_blank\" href=https://colab.research.google.com/notebooks/data_table.ipynb>data table notebook</a>'\n",
              "            + ' to learn more about interactive tables.';\n",
              "          element.innerHTML = '';\n",
              "          dataTable['output_type'] = 'display_data';\n",
              "          await google.colab.output.renderOutput(dataTable, element);\n",
              "          const docLink = document.createElement('div');\n",
              "          docLink.innerHTML = docLinkHtml;\n",
              "          element.appendChild(docLink);\n",
              "        }\n",
              "      </script>\n",
              "    </div>\n",
              "  </div>\n",
              "  "
            ]
          },
          "metadata": {},
          "execution_count": 113
        }
      ]
    },
    {
      "cell_type": "markdown",
      "source": [
        "# 모델링\n",
        "- x와 y 나누기\n",
        "- 데이터 분할\n"
      ],
      "metadata": {
        "id": "uiqGQcAp2Dvd"
      }
    },
    {
      "cell_type": "code",
      "source": [
        "df.columns"
      ],
      "metadata": {
        "colab": {
          "base_uri": "https://localhost:8080/"
        },
        "id": "5FTAtjNS2UEk",
        "outputId": "e65561de-9092-4c23-8d2c-398bedfdf0dc"
      },
      "execution_count": null,
      "outputs": [
        {
          "output_type": "execute_result",
          "data": {
            "text/plain": [
              "Index(['index', '사고신고사유', '공정율', '날씨', '지역', '공사비', '공종소분류', '사망자', '내국인사망자',\n",
              "       '외국인사망자', '남성사망자', '여성사망자', '10이상20미만 사망자', '20이상30미만 사망자',\n",
              "       '30이상40미만 사망자', '40이상50미만 사망자', '50이상60미만 사망자', '60이상사망자', '부상자',\n",
              "       '내국인부상자', '외국인부상자', '남성부상자', '여성부상자', '10이상20미만 부상자', '20이상30미만 부상자',\n",
              "       '30이상40미만 부상자', '40이상50미만 부상자', '50이상60미만 부상자', '60이상부상자', '사고년도',\n",
              "       '사고월', '사고시간', '성별', '국적', '나이'],\n",
              "      dtype='object')"
            ]
          },
          "metadata": {},
          "execution_count": 114
        }
      ]
    },
    {
      "cell_type": "code",
      "source": [
        "X = df[['공정율','날씨','지역','공사비','공종소분류','사고년도','사고월','사고시간','성별','국적','나이']]\n",
        "y = df['사고신고사유']"
      ],
      "metadata": {
        "id": "li8tGZPQ1-bV"
      },
      "execution_count": null,
      "outputs": []
    },
    {
      "cell_type": "code",
      "source": [
        "X.head()"
      ],
      "metadata": {
        "colab": {
          "base_uri": "https://localhost:8080/",
          "height": 206
        },
        "id": "-Qu0QrkT2n5w",
        "outputId": "4937e95f-c6f1-4403-f0db-12884b499704"
      },
      "execution_count": null,
      "outputs": [
        {
          "output_type": "execute_result",
          "data": {
            "text/plain": [
              "      공정율  날씨     지역                공사비   공종소분류  사고년도 사고월 사고시간  성별  국적  나이\n",
              "0  20~29%  맑음    경기도      10억 ~ 20억원 미만      기타  2019  07   07   1   1  50\n",
              "1  60~69%  맑음    경기도         1,000억원 이상    가설공사  2019  07   09   1   1  50\n",
              "2  90% 이상  맑음  인천광역시  500억 ~ 1,000억원 미만    가설공사  2019  07   10   1   1  60\n",
              "3  50~59%  맑음    경기도  500억 ~ 1,000억원 미만  전기설비공사  2019  07   10   1   1  50\n",
              "4  20~29%  흐림    경기도         1,000억원 이상      기타  2019  07   10   1   1  60"
            ],
            "text/html": [
              "\n",
              "  <div id=\"df-6093dce1-6aa8-4bef-a6f4-4264860bf9c6\">\n",
              "    <div class=\"colab-df-container\">\n",
              "      <div>\n",
              "<style scoped>\n",
              "    .dataframe tbody tr th:only-of-type {\n",
              "        vertical-align: middle;\n",
              "    }\n",
              "\n",
              "    .dataframe tbody tr th {\n",
              "        vertical-align: top;\n",
              "    }\n",
              "\n",
              "    .dataframe thead th {\n",
              "        text-align: right;\n",
              "    }\n",
              "</style>\n",
              "<table border=\"1\" class=\"dataframe\">\n",
              "  <thead>\n",
              "    <tr style=\"text-align: right;\">\n",
              "      <th></th>\n",
              "      <th>공정율</th>\n",
              "      <th>날씨</th>\n",
              "      <th>지역</th>\n",
              "      <th>공사비</th>\n",
              "      <th>공종소분류</th>\n",
              "      <th>사고년도</th>\n",
              "      <th>사고월</th>\n",
              "      <th>사고시간</th>\n",
              "      <th>성별</th>\n",
              "      <th>국적</th>\n",
              "      <th>나이</th>\n",
              "    </tr>\n",
              "  </thead>\n",
              "  <tbody>\n",
              "    <tr>\n",
              "      <th>0</th>\n",
              "      <td>20~29%</td>\n",
              "      <td>맑음</td>\n",
              "      <td>경기도</td>\n",
              "      <td>10억 ~ 20억원 미만</td>\n",
              "      <td>기타</td>\n",
              "      <td>2019</td>\n",
              "      <td>07</td>\n",
              "      <td>07</td>\n",
              "      <td>1</td>\n",
              "      <td>1</td>\n",
              "      <td>50</td>\n",
              "    </tr>\n",
              "    <tr>\n",
              "      <th>1</th>\n",
              "      <td>60~69%</td>\n",
              "      <td>맑음</td>\n",
              "      <td>경기도</td>\n",
              "      <td>1,000억원 이상</td>\n",
              "      <td>가설공사</td>\n",
              "      <td>2019</td>\n",
              "      <td>07</td>\n",
              "      <td>09</td>\n",
              "      <td>1</td>\n",
              "      <td>1</td>\n",
              "      <td>50</td>\n",
              "    </tr>\n",
              "    <tr>\n",
              "      <th>2</th>\n",
              "      <td>90% 이상</td>\n",
              "      <td>맑음</td>\n",
              "      <td>인천광역시</td>\n",
              "      <td>500억 ~ 1,000억원 미만</td>\n",
              "      <td>가설공사</td>\n",
              "      <td>2019</td>\n",
              "      <td>07</td>\n",
              "      <td>10</td>\n",
              "      <td>1</td>\n",
              "      <td>1</td>\n",
              "      <td>60</td>\n",
              "    </tr>\n",
              "    <tr>\n",
              "      <th>3</th>\n",
              "      <td>50~59%</td>\n",
              "      <td>맑음</td>\n",
              "      <td>경기도</td>\n",
              "      <td>500억 ~ 1,000억원 미만</td>\n",
              "      <td>전기설비공사</td>\n",
              "      <td>2019</td>\n",
              "      <td>07</td>\n",
              "      <td>10</td>\n",
              "      <td>1</td>\n",
              "      <td>1</td>\n",
              "      <td>50</td>\n",
              "    </tr>\n",
              "    <tr>\n",
              "      <th>4</th>\n",
              "      <td>20~29%</td>\n",
              "      <td>흐림</td>\n",
              "      <td>경기도</td>\n",
              "      <td>1,000억원 이상</td>\n",
              "      <td>기타</td>\n",
              "      <td>2019</td>\n",
              "      <td>07</td>\n",
              "      <td>10</td>\n",
              "      <td>1</td>\n",
              "      <td>1</td>\n",
              "      <td>60</td>\n",
              "    </tr>\n",
              "  </tbody>\n",
              "</table>\n",
              "</div>\n",
              "      <button class=\"colab-df-convert\" onclick=\"convertToInteractive('df-6093dce1-6aa8-4bef-a6f4-4264860bf9c6')\"\n",
              "              title=\"Convert this dataframe to an interactive table.\"\n",
              "              style=\"display:none;\">\n",
              "        \n",
              "  <svg xmlns=\"http://www.w3.org/2000/svg\" height=\"24px\"viewBox=\"0 0 24 24\"\n",
              "       width=\"24px\">\n",
              "    <path d=\"M0 0h24v24H0V0z\" fill=\"none\"/>\n",
              "    <path d=\"M18.56 5.44l.94 2.06.94-2.06 2.06-.94-2.06-.94-.94-2.06-.94 2.06-2.06.94zm-11 1L8.5 8.5l.94-2.06 2.06-.94-2.06-.94L8.5 2.5l-.94 2.06-2.06.94zm10 10l.94 2.06.94-2.06 2.06-.94-2.06-.94-.94-2.06-.94 2.06-2.06.94z\"/><path d=\"M17.41 7.96l-1.37-1.37c-.4-.4-.92-.59-1.43-.59-.52 0-1.04.2-1.43.59L10.3 9.45l-7.72 7.72c-.78.78-.78 2.05 0 2.83L4 21.41c.39.39.9.59 1.41.59.51 0 1.02-.2 1.41-.59l7.78-7.78 2.81-2.81c.8-.78.8-2.07 0-2.86zM5.41 20L4 18.59l7.72-7.72 1.47 1.35L5.41 20z\"/>\n",
              "  </svg>\n",
              "      </button>\n",
              "      \n",
              "  <style>\n",
              "    .colab-df-container {\n",
              "      display:flex;\n",
              "      flex-wrap:wrap;\n",
              "      gap: 12px;\n",
              "    }\n",
              "\n",
              "    .colab-df-convert {\n",
              "      background-color: #E8F0FE;\n",
              "      border: none;\n",
              "      border-radius: 50%;\n",
              "      cursor: pointer;\n",
              "      display: none;\n",
              "      fill: #1967D2;\n",
              "      height: 32px;\n",
              "      padding: 0 0 0 0;\n",
              "      width: 32px;\n",
              "    }\n",
              "\n",
              "    .colab-df-convert:hover {\n",
              "      background-color: #E2EBFA;\n",
              "      box-shadow: 0px 1px 2px rgba(60, 64, 67, 0.3), 0px 1px 3px 1px rgba(60, 64, 67, 0.15);\n",
              "      fill: #174EA6;\n",
              "    }\n",
              "\n",
              "    [theme=dark] .colab-df-convert {\n",
              "      background-color: #3B4455;\n",
              "      fill: #D2E3FC;\n",
              "    }\n",
              "\n",
              "    [theme=dark] .colab-df-convert:hover {\n",
              "      background-color: #434B5C;\n",
              "      box-shadow: 0px 1px 3px 1px rgba(0, 0, 0, 0.15);\n",
              "      filter: drop-shadow(0px 1px 2px rgba(0, 0, 0, 0.3));\n",
              "      fill: #FFFFFF;\n",
              "    }\n",
              "  </style>\n",
              "\n",
              "      <script>\n",
              "        const buttonEl =\n",
              "          document.querySelector('#df-6093dce1-6aa8-4bef-a6f4-4264860bf9c6 button.colab-df-convert');\n",
              "        buttonEl.style.display =\n",
              "          google.colab.kernel.accessAllowed ? 'block' : 'none';\n",
              "\n",
              "        async function convertToInteractive(key) {\n",
              "          const element = document.querySelector('#df-6093dce1-6aa8-4bef-a6f4-4264860bf9c6');\n",
              "          const dataTable =\n",
              "            await google.colab.kernel.invokeFunction('convertToInteractive',\n",
              "                                                     [key], {});\n",
              "          if (!dataTable) return;\n",
              "\n",
              "          const docLinkHtml = 'Like what you see? Visit the ' +\n",
              "            '<a target=\"_blank\" href=https://colab.research.google.com/notebooks/data_table.ipynb>data table notebook</a>'\n",
              "            + ' to learn more about interactive tables.';\n",
              "          element.innerHTML = '';\n",
              "          dataTable['output_type'] = 'display_data';\n",
              "          await google.colab.output.renderOutput(dataTable, element);\n",
              "          const docLink = document.createElement('div');\n",
              "          docLink.innerHTML = docLinkHtml;\n",
              "          element.appendChild(docLink);\n",
              "        }\n",
              "      </script>\n",
              "    </div>\n",
              "  </div>\n",
              "  "
            ]
          },
          "metadata": {},
          "execution_count": 116
        }
      ]
    },
    {
      "cell_type": "code",
      "source": [
        "X_hot=pd.get_dummies(X)\n",
        "X_hot"
      ],
      "metadata": {
        "colab": {
          "base_uri": "https://localhost:8080/",
          "height": 502
        },
        "id": "XeahvDGb3KoL",
        "outputId": "c61bb798-d530-480a-e26b-593966f817df"
      },
      "execution_count": null,
      "outputs": [
        {
          "output_type": "execute_result",
          "data": {
            "text/plain": [
              "       성별  국적  나이  공정율_10% 미만  공정율_10~19%  공정율_20~29%  공정율_30~39%  공정율_40~49%  \\\n",
              "0       1   1  50           0           0           1           0           0   \n",
              "1       1   1  50           0           0           0           0           0   \n",
              "2       1   1  60           0           0           0           0           0   \n",
              "3       1   1  50           0           0           0           0           0   \n",
              "4       1   1  60           0           0           1           0           0   \n",
              "...    ..  ..  ..         ...         ...         ...         ...         ...   \n",
              "16095   1   1  40           0           1           0           0           0   \n",
              "16096   1   0  20           0           1           0           0           0   \n",
              "16097   1   1  40           0           0           0           0           0   \n",
              "16098   1   1  30           0           0           0           0           0   \n",
              "16099   1   1  20           0           0           0           0           0   \n",
              "\n",
              "       공정율_50~59%  공정율_60~69%  ...  사고시간_14  사고시간_15  사고시간_16  사고시간_17  \\\n",
              "0               0           0  ...        0        0        0        0   \n",
              "1               0           1  ...        0        0        0        0   \n",
              "2               0           0  ...        0        0        0        0   \n",
              "3               1           0  ...        0        0        0        0   \n",
              "4               0           0  ...        0        0        0        0   \n",
              "...           ...         ...  ...      ...      ...      ...      ...   \n",
              "16095           0           0  ...        0        0        0        0   \n",
              "16096           0           0  ...        1        0        0        0   \n",
              "16097           0           0  ...        0        0        0        0   \n",
              "16098           0           0  ...        0        0        0        0   \n",
              "16099           0           0  ...        0        0        0        0   \n",
              "\n",
              "       사고시간_18  사고시간_19  사고시간_20  사고시간_21  사고시간_22  사고시간_23  \n",
              "0            0        0        0        0        0        0  \n",
              "1            0        0        0        0        0        0  \n",
              "2            0        0        0        0        0        0  \n",
              "3            0        0        0        0        0        0  \n",
              "4            0        0        0        0        0        0  \n",
              "...        ...      ...      ...      ...      ...      ...  \n",
              "16095        0        0        0        0        0        0  \n",
              "16096        0        0        0        0        0        0  \n",
              "16097        0        0        0        0        0        0  \n",
              "16098        0        0        0        0        0        0  \n",
              "16099        0        0        0        0        0        0  \n",
              "\n",
              "[16100 rows x 133 columns]"
            ],
            "text/html": [
              "\n",
              "  <div id=\"df-e77645a6-c780-4fd7-8c91-1dd21d97e07b\">\n",
              "    <div class=\"colab-df-container\">\n",
              "      <div>\n",
              "<style scoped>\n",
              "    .dataframe tbody tr th:only-of-type {\n",
              "        vertical-align: middle;\n",
              "    }\n",
              "\n",
              "    .dataframe tbody tr th {\n",
              "        vertical-align: top;\n",
              "    }\n",
              "\n",
              "    .dataframe thead th {\n",
              "        text-align: right;\n",
              "    }\n",
              "</style>\n",
              "<table border=\"1\" class=\"dataframe\">\n",
              "  <thead>\n",
              "    <tr style=\"text-align: right;\">\n",
              "      <th></th>\n",
              "      <th>성별</th>\n",
              "      <th>국적</th>\n",
              "      <th>나이</th>\n",
              "      <th>공정율_10% 미만</th>\n",
              "      <th>공정율_10~19%</th>\n",
              "      <th>공정율_20~29%</th>\n",
              "      <th>공정율_30~39%</th>\n",
              "      <th>공정율_40~49%</th>\n",
              "      <th>공정율_50~59%</th>\n",
              "      <th>공정율_60~69%</th>\n",
              "      <th>...</th>\n",
              "      <th>사고시간_14</th>\n",
              "      <th>사고시간_15</th>\n",
              "      <th>사고시간_16</th>\n",
              "      <th>사고시간_17</th>\n",
              "      <th>사고시간_18</th>\n",
              "      <th>사고시간_19</th>\n",
              "      <th>사고시간_20</th>\n",
              "      <th>사고시간_21</th>\n",
              "      <th>사고시간_22</th>\n",
              "      <th>사고시간_23</th>\n",
              "    </tr>\n",
              "  </thead>\n",
              "  <tbody>\n",
              "    <tr>\n",
              "      <th>0</th>\n",
              "      <td>1</td>\n",
              "      <td>1</td>\n",
              "      <td>50</td>\n",
              "      <td>0</td>\n",
              "      <td>0</td>\n",
              "      <td>1</td>\n",
              "      <td>0</td>\n",
              "      <td>0</td>\n",
              "      <td>0</td>\n",
              "      <td>0</td>\n",
              "      <td>...</td>\n",
              "      <td>0</td>\n",
              "      <td>0</td>\n",
              "      <td>0</td>\n",
              "      <td>0</td>\n",
              "      <td>0</td>\n",
              "      <td>0</td>\n",
              "      <td>0</td>\n",
              "      <td>0</td>\n",
              "      <td>0</td>\n",
              "      <td>0</td>\n",
              "    </tr>\n",
              "    <tr>\n",
              "      <th>1</th>\n",
              "      <td>1</td>\n",
              "      <td>1</td>\n",
              "      <td>50</td>\n",
              "      <td>0</td>\n",
              "      <td>0</td>\n",
              "      <td>0</td>\n",
              "      <td>0</td>\n",
              "      <td>0</td>\n",
              "      <td>0</td>\n",
              "      <td>1</td>\n",
              "      <td>...</td>\n",
              "      <td>0</td>\n",
              "      <td>0</td>\n",
              "      <td>0</td>\n",
              "      <td>0</td>\n",
              "      <td>0</td>\n",
              "      <td>0</td>\n",
              "      <td>0</td>\n",
              "      <td>0</td>\n",
              "      <td>0</td>\n",
              "      <td>0</td>\n",
              "    </tr>\n",
              "    <tr>\n",
              "      <th>2</th>\n",
              "      <td>1</td>\n",
              "      <td>1</td>\n",
              "      <td>60</td>\n",
              "      <td>0</td>\n",
              "      <td>0</td>\n",
              "      <td>0</td>\n",
              "      <td>0</td>\n",
              "      <td>0</td>\n",
              "      <td>0</td>\n",
              "      <td>0</td>\n",
              "      <td>...</td>\n",
              "      <td>0</td>\n",
              "      <td>0</td>\n",
              "      <td>0</td>\n",
              "      <td>0</td>\n",
              "      <td>0</td>\n",
              "      <td>0</td>\n",
              "      <td>0</td>\n",
              "      <td>0</td>\n",
              "      <td>0</td>\n",
              "      <td>0</td>\n",
              "    </tr>\n",
              "    <tr>\n",
              "      <th>3</th>\n",
              "      <td>1</td>\n",
              "      <td>1</td>\n",
              "      <td>50</td>\n",
              "      <td>0</td>\n",
              "      <td>0</td>\n",
              "      <td>0</td>\n",
              "      <td>0</td>\n",
              "      <td>0</td>\n",
              "      <td>1</td>\n",
              "      <td>0</td>\n",
              "      <td>...</td>\n",
              "      <td>0</td>\n",
              "      <td>0</td>\n",
              "      <td>0</td>\n",
              "      <td>0</td>\n",
              "      <td>0</td>\n",
              "      <td>0</td>\n",
              "      <td>0</td>\n",
              "      <td>0</td>\n",
              "      <td>0</td>\n",
              "      <td>0</td>\n",
              "    </tr>\n",
              "    <tr>\n",
              "      <th>4</th>\n",
              "      <td>1</td>\n",
              "      <td>1</td>\n",
              "      <td>60</td>\n",
              "      <td>0</td>\n",
              "      <td>0</td>\n",
              "      <td>1</td>\n",
              "      <td>0</td>\n",
              "      <td>0</td>\n",
              "      <td>0</td>\n",
              "      <td>0</td>\n",
              "      <td>...</td>\n",
              "      <td>0</td>\n",
              "      <td>0</td>\n",
              "      <td>0</td>\n",
              "      <td>0</td>\n",
              "      <td>0</td>\n",
              "      <td>0</td>\n",
              "      <td>0</td>\n",
              "      <td>0</td>\n",
              "      <td>0</td>\n",
              "      <td>0</td>\n",
              "    </tr>\n",
              "    <tr>\n",
              "      <th>...</th>\n",
              "      <td>...</td>\n",
              "      <td>...</td>\n",
              "      <td>...</td>\n",
              "      <td>...</td>\n",
              "      <td>...</td>\n",
              "      <td>...</td>\n",
              "      <td>...</td>\n",
              "      <td>...</td>\n",
              "      <td>...</td>\n",
              "      <td>...</td>\n",
              "      <td>...</td>\n",
              "      <td>...</td>\n",
              "      <td>...</td>\n",
              "      <td>...</td>\n",
              "      <td>...</td>\n",
              "      <td>...</td>\n",
              "      <td>...</td>\n",
              "      <td>...</td>\n",
              "      <td>...</td>\n",
              "      <td>...</td>\n",
              "      <td>...</td>\n",
              "    </tr>\n",
              "    <tr>\n",
              "      <th>16095</th>\n",
              "      <td>1</td>\n",
              "      <td>1</td>\n",
              "      <td>40</td>\n",
              "      <td>0</td>\n",
              "      <td>1</td>\n",
              "      <td>0</td>\n",
              "      <td>0</td>\n",
              "      <td>0</td>\n",
              "      <td>0</td>\n",
              "      <td>0</td>\n",
              "      <td>...</td>\n",
              "      <td>0</td>\n",
              "      <td>0</td>\n",
              "      <td>0</td>\n",
              "      <td>0</td>\n",
              "      <td>0</td>\n",
              "      <td>0</td>\n",
              "      <td>0</td>\n",
              "      <td>0</td>\n",
              "      <td>0</td>\n",
              "      <td>0</td>\n",
              "    </tr>\n",
              "    <tr>\n",
              "      <th>16096</th>\n",
              "      <td>1</td>\n",
              "      <td>0</td>\n",
              "      <td>20</td>\n",
              "      <td>0</td>\n",
              "      <td>1</td>\n",
              "      <td>0</td>\n",
              "      <td>0</td>\n",
              "      <td>0</td>\n",
              "      <td>0</td>\n",
              "      <td>0</td>\n",
              "      <td>...</td>\n",
              "      <td>1</td>\n",
              "      <td>0</td>\n",
              "      <td>0</td>\n",
              "      <td>0</td>\n",
              "      <td>0</td>\n",
              "      <td>0</td>\n",
              "      <td>0</td>\n",
              "      <td>0</td>\n",
              "      <td>0</td>\n",
              "      <td>0</td>\n",
              "    </tr>\n",
              "    <tr>\n",
              "      <th>16097</th>\n",
              "      <td>1</td>\n",
              "      <td>1</td>\n",
              "      <td>40</td>\n",
              "      <td>0</td>\n",
              "      <td>0</td>\n",
              "      <td>0</td>\n",
              "      <td>0</td>\n",
              "      <td>0</td>\n",
              "      <td>0</td>\n",
              "      <td>0</td>\n",
              "      <td>...</td>\n",
              "      <td>0</td>\n",
              "      <td>0</td>\n",
              "      <td>0</td>\n",
              "      <td>0</td>\n",
              "      <td>0</td>\n",
              "      <td>0</td>\n",
              "      <td>0</td>\n",
              "      <td>0</td>\n",
              "      <td>0</td>\n",
              "      <td>0</td>\n",
              "    </tr>\n",
              "    <tr>\n",
              "      <th>16098</th>\n",
              "      <td>1</td>\n",
              "      <td>1</td>\n",
              "      <td>30</td>\n",
              "      <td>0</td>\n",
              "      <td>0</td>\n",
              "      <td>0</td>\n",
              "      <td>0</td>\n",
              "      <td>0</td>\n",
              "      <td>0</td>\n",
              "      <td>0</td>\n",
              "      <td>...</td>\n",
              "      <td>0</td>\n",
              "      <td>0</td>\n",
              "      <td>0</td>\n",
              "      <td>0</td>\n",
              "      <td>0</td>\n",
              "      <td>0</td>\n",
              "      <td>0</td>\n",
              "      <td>0</td>\n",
              "      <td>0</td>\n",
              "      <td>0</td>\n",
              "    </tr>\n",
              "    <tr>\n",
              "      <th>16099</th>\n",
              "      <td>1</td>\n",
              "      <td>1</td>\n",
              "      <td>20</td>\n",
              "      <td>0</td>\n",
              "      <td>0</td>\n",
              "      <td>0</td>\n",
              "      <td>0</td>\n",
              "      <td>0</td>\n",
              "      <td>0</td>\n",
              "      <td>0</td>\n",
              "      <td>...</td>\n",
              "      <td>0</td>\n",
              "      <td>0</td>\n",
              "      <td>0</td>\n",
              "      <td>0</td>\n",
              "      <td>0</td>\n",
              "      <td>0</td>\n",
              "      <td>0</td>\n",
              "      <td>0</td>\n",
              "      <td>0</td>\n",
              "      <td>0</td>\n",
              "    </tr>\n",
              "  </tbody>\n",
              "</table>\n",
              "<p>16100 rows × 133 columns</p>\n",
              "</div>\n",
              "      <button class=\"colab-df-convert\" onclick=\"convertToInteractive('df-e77645a6-c780-4fd7-8c91-1dd21d97e07b')\"\n",
              "              title=\"Convert this dataframe to an interactive table.\"\n",
              "              style=\"display:none;\">\n",
              "        \n",
              "  <svg xmlns=\"http://www.w3.org/2000/svg\" height=\"24px\"viewBox=\"0 0 24 24\"\n",
              "       width=\"24px\">\n",
              "    <path d=\"M0 0h24v24H0V0z\" fill=\"none\"/>\n",
              "    <path d=\"M18.56 5.44l.94 2.06.94-2.06 2.06-.94-2.06-.94-.94-2.06-.94 2.06-2.06.94zm-11 1L8.5 8.5l.94-2.06 2.06-.94-2.06-.94L8.5 2.5l-.94 2.06-2.06.94zm10 10l.94 2.06.94-2.06 2.06-.94-2.06-.94-.94-2.06-.94 2.06-2.06.94z\"/><path d=\"M17.41 7.96l-1.37-1.37c-.4-.4-.92-.59-1.43-.59-.52 0-1.04.2-1.43.59L10.3 9.45l-7.72 7.72c-.78.78-.78 2.05 0 2.83L4 21.41c.39.39.9.59 1.41.59.51 0 1.02-.2 1.41-.59l7.78-7.78 2.81-2.81c.8-.78.8-2.07 0-2.86zM5.41 20L4 18.59l7.72-7.72 1.47 1.35L5.41 20z\"/>\n",
              "  </svg>\n",
              "      </button>\n",
              "      \n",
              "  <style>\n",
              "    .colab-df-container {\n",
              "      display:flex;\n",
              "      flex-wrap:wrap;\n",
              "      gap: 12px;\n",
              "    }\n",
              "\n",
              "    .colab-df-convert {\n",
              "      background-color: #E8F0FE;\n",
              "      border: none;\n",
              "      border-radius: 50%;\n",
              "      cursor: pointer;\n",
              "      display: none;\n",
              "      fill: #1967D2;\n",
              "      height: 32px;\n",
              "      padding: 0 0 0 0;\n",
              "      width: 32px;\n",
              "    }\n",
              "\n",
              "    .colab-df-convert:hover {\n",
              "      background-color: #E2EBFA;\n",
              "      box-shadow: 0px 1px 2px rgba(60, 64, 67, 0.3), 0px 1px 3px 1px rgba(60, 64, 67, 0.15);\n",
              "      fill: #174EA6;\n",
              "    }\n",
              "\n",
              "    [theme=dark] .colab-df-convert {\n",
              "      background-color: #3B4455;\n",
              "      fill: #D2E3FC;\n",
              "    }\n",
              "\n",
              "    [theme=dark] .colab-df-convert:hover {\n",
              "      background-color: #434B5C;\n",
              "      box-shadow: 0px 1px 3px 1px rgba(0, 0, 0, 0.15);\n",
              "      filter: drop-shadow(0px 1px 2px rgba(0, 0, 0, 0.3));\n",
              "      fill: #FFFFFF;\n",
              "    }\n",
              "  </style>\n",
              "\n",
              "      <script>\n",
              "        const buttonEl =\n",
              "          document.querySelector('#df-e77645a6-c780-4fd7-8c91-1dd21d97e07b button.colab-df-convert');\n",
              "        buttonEl.style.display =\n",
              "          google.colab.kernel.accessAllowed ? 'block' : 'none';\n",
              "\n",
              "        async function convertToInteractive(key) {\n",
              "          const element = document.querySelector('#df-e77645a6-c780-4fd7-8c91-1dd21d97e07b');\n",
              "          const dataTable =\n",
              "            await google.colab.kernel.invokeFunction('convertToInteractive',\n",
              "                                                     [key], {});\n",
              "          if (!dataTable) return;\n",
              "\n",
              "          const docLinkHtml = 'Like what you see? Visit the ' +\n",
              "            '<a target=\"_blank\" href=https://colab.research.google.com/notebooks/data_table.ipynb>data table notebook</a>'\n",
              "            + ' to learn more about interactive tables.';\n",
              "          element.innerHTML = '';\n",
              "          dataTable['output_type'] = 'display_data';\n",
              "          await google.colab.output.renderOutput(dataTable, element);\n",
              "          const docLink = document.createElement('div');\n",
              "          docLink.innerHTML = docLinkHtml;\n",
              "          element.appendChild(docLink);\n",
              "        }\n",
              "      </script>\n",
              "    </div>\n",
              "  </div>\n",
              "  "
            ]
          },
          "metadata": {},
          "execution_count": 117
        }
      ]
    },
    {
      "cell_type": "code",
      "source": [
        "from sklearn.model_selection import train_test_split\n",
        "x_train,x_test,y_train,y_test = train_test_split(X_hot,y,test_size=0.2,random_state=46)"
      ],
      "metadata": {
        "id": "F4NC80Mn3Puc"
      },
      "execution_count": null,
      "outputs": []
    },
    {
      "cell_type": "code",
      "source": [
        "from sklearn.tree import DecisionTreeClassifier, DecisionTreeRegressor\n",
        "from sklearn.tree import plot_tree\n",
        "\n",
        "clf = DecisionTreeClassifier(\n",
        "            # criterion='entropy', ## 'gini', 'log_loss'\n",
        "            # splitter='best', ## 'random'\n",
        "            max_depth=3, ## '최대 깊이'\n",
        "            # min_samples_leaf=5, ## 최소 끝마디 샘플 수\n",
        "            # random_state=100\n",
        "        ).fit(x_train,y_train)\n",
        "pred_clf = clf.predict(x_test)\n",
        "result_clf = accuracy_score(pred_clf,y_test)\n",
        "result_clf"
      ],
      "metadata": {
        "colab": {
          "base_uri": "https://localhost:8080/"
        },
        "id": "TK_hYyrq3Wfj",
        "outputId": "bbff79ce-86f2-459d-c61e-796fe9a6121e"
      },
      "execution_count": null,
      "outputs": [
        {
          "output_type": "execute_result",
          "data": {
            "text/plain": [
              "0.9537267080745342"
            ]
          },
          "metadata": {},
          "execution_count": 123
        }
      ]
    },
    {
      "cell_type": "code",
      "source": [
        "from sklearn.ensemble import RandomForestClassifier\n",
        "from sklearn.metrics import r2_score\n",
        "from sklearn.metrics import accuracy_score\n",
        "from sklearn.metrics import roc_auc_score\n",
        "\n",
        "rf = RandomForestClassifier()\n",
        "rf.fit(x_train,y_train)\n",
        "pred_rf = rf.predict(x_test)\n",
        "result_rf = accuracy_score(pred_rf,y_test)\n",
        "result_rf"
      ],
      "metadata": {
        "colab": {
          "base_uri": "https://localhost:8080/"
        },
        "id": "SQbub21i3dJ0",
        "outputId": "1a6b972b-1619-4eb4-c5ce-0fb9ccb47bd6"
      },
      "execution_count": null,
      "outputs": [
        {
          "output_type": "execute_result",
          "data": {
            "text/plain": [
              "0.9540372670807453"
            ]
          },
          "metadata": {},
          "execution_count": 122
        }
      ]
    },
    {
      "cell_type": "code",
      "source": [
        "save = df[['공정율','날씨','지역','공사비','공종소분류','사고년도','사고월','사고시간','성별','국적','나이','사고신고사유']]"
      ],
      "metadata": {
        "id": "p9TcLHTI6E_p"
      },
      "execution_count": null,
      "outputs": []
    },
    {
      "cell_type": "code",
      "source": [
        "save.to_csv('사망자_예측.csv',index = False,encoding=\"utf-8-sig\")"
      ],
      "metadata": {
        "id": "t6IzvVTV4XzC"
      },
      "execution_count": null,
      "outputs": []
    }
  ]
}